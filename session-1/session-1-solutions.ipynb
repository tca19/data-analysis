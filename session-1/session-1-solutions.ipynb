{
 "cells": [
  {
   "cell_type": "markdown",
   "metadata": {},
   "source": [
    "# Session 1 : Discovering Data Analysis libraries"
   ]
  },
  {
   "cell_type": "markdown",
   "metadata": {},
   "source": [
    "## Jupyter notebook"
   ]
  },
  {
   "cell_type": "markdown",
   "metadata": {},
   "source": [
    "Jupyter notebooks allow you to create/edit/view documents that contain code snippets and other types of data (like images, tables or even formula) with a web interface. Code snippets can be executed and the results will be displayed in your document.\n",
    "\n",
    "In our case, every time you run a Python code snippet, the browser sends a request to the server, the server interprets the code, and returns the result to the browser. Select the block below this paragraph and click the \"Run\" icon in the toolbar."
   ]
  },
  {
   "cell_type": "code",
   "execution_count": 1,
   "metadata": {},
   "outputs": [
    {
     "name": "stdout",
     "output_type": "stream",
     "text": [
      "13 * 14 equals 182\n",
      "14 * 14 equals 196\n"
     ]
    }
   ],
   "source": [
    "print(\"13 * 14 equals\", 13 * 14)\n",
    "print(\"14 * 14 equals\", 14 * 14)"
   ]
  },
  {
   "cell_type": "markdown",
   "metadata": {},
   "source": [
    "Go to the \"Help\" section in the menu bar, and select \"User Interface Tour\" to know more about how to interact with a Jupyter notebook. Once this is done, select again the previous code cell, and add a line of code similar to the one already existing to print the result of 14 * 14. "
   ]
  },
  {
   "cell_type": "markdown",
   "metadata": {},
   "source": [
    "Cells in Jupyter notebook can either be a code cell or a markdown cell. You can modify the type of a cell with the appropriate item in the toolbar. Markdown is more suited when you need to explain something with text. Modify this cell so it becomes a markdown cell. You might need to do something more so it appears like a regular paragraph."
   ]
  },
  {
   "cell_type": "markdown",
   "metadata": {},
   "source": [
    "### IPython"
   ]
  },
  {
   "cell_type": "markdown",
   "metadata": {},
   "source": [
    "Jupyter notebooks rely on IPython, an enhanced shell compared to the basic Python shell. You can launch IPython on a command line with the command ```ipython```, but you can also use the code cells of a Jupyter notebook.\n",
    "\n",
    "By default, IPython prints the string representation of variables if they are the only expression of a line (even if no explicit print was written)."
   ]
  },
  {
   "cell_type": "code",
   "execution_count": 2,
   "metadata": {},
   "outputs": [],
   "source": [
    "number = 10 # declaration of a variable named `number`"
   ]
  },
  {
   "cell_type": "code",
   "execution_count": 3,
   "metadata": {},
   "outputs": [
    {
     "data": {
      "text/plain": [
       "10"
      ]
     },
     "execution_count": 3,
     "metadata": {},
     "output_type": "execute_result"
    }
   ],
   "source": [
    "number      # show the string representation of `number`"
   ]
  },
  {
   "cell_type": "markdown",
   "metadata": {},
   "source": [
    "There is a difference between using the print() function, and using the default string representation of IPython (which is \"prettier\" than basic print() function)."
   ]
  },
  {
   "cell_type": "code",
   "execution_count": 4,
   "metadata": {},
   "outputs": [
    {
     "name": "stdout",
     "output_type": "stream",
     "text": [
      "{'A': 1, 'B': 2, 'C': 4, 'D': 8, 'E': 16, 'F': 1, 'G': 2, 'H': 4, 'I': 8, 'J': 16, 'K': 1, 'L': 2, 'M': 4, 'N': 8, 'O': 16, 'P': 1, 'Q': 2, 'R': 4, 'S': 8, 'T': 16, 'U': 1, 'V': 2, 'W': 4, 'X': 8, 'Y': 16, 'Z': 1}\n"
     ]
    }
   ],
   "source": [
    "code = {'A': 1, 'B': 2, 'C': 4, 'D': 8, 'E': 16,\n",
    "        'F': 1, 'G': 2, 'H': 4, 'I': 8, 'J': 16,\n",
    "        'K': 1, 'L': 2, 'M': 4, 'N': 8, 'O': 16,\n",
    "        'P': 1, 'Q': 2, 'R': 4, 'S': 8, 'T': 16,\n",
    "        'U': 1, 'V': 2, 'W': 4, 'X': 8, 'Y': 16,\n",
    "        'Z': 1\n",
    "       }\n",
    "print(code)"
   ]
  },
  {
   "cell_type": "code",
   "execution_count": 5,
   "metadata": {},
   "outputs": [
    {
     "data": {
      "text/plain": [
       "{'A': 1,\n",
       " 'B': 2,\n",
       " 'C': 4,\n",
       " 'D': 8,\n",
       " 'E': 16,\n",
       " 'F': 1,\n",
       " 'G': 2,\n",
       " 'H': 4,\n",
       " 'I': 8,\n",
       " 'J': 16,\n",
       " 'K': 1,\n",
       " 'L': 2,\n",
       " 'M': 4,\n",
       " 'N': 8,\n",
       " 'O': 16,\n",
       " 'P': 1,\n",
       " 'Q': 2,\n",
       " 'R': 4,\n",
       " 'S': 8,\n",
       " 'T': 16,\n",
       " 'U': 1,\n",
       " 'V': 2,\n",
       " 'W': 4,\n",
       " 'X': 8,\n",
       " 'Y': 16,\n",
       " 'Z': 1}"
      ]
     },
     "execution_count": 5,
     "metadata": {},
     "output_type": "execute_result"
    }
   ],
   "source": [
    "code"
   ]
  },
  {
   "cell_type": "markdown",
   "metadata": {},
   "source": [
    "IPython has built-in TAB completion. Try to type the first letters of the variable number (like `nu`) and then type TAB."
   ]
  },
  {
   "cell_type": "code",
   "execution_count": 6,
   "metadata": {},
   "outputs": [
    {
     "data": {
      "text/plain": [
       "10"
      ]
     },
     "execution_count": 6,
     "metadata": {},
     "output_type": "execute_result"
    }
   ],
   "source": [
    "number"
   ]
  },
  {
   "cell_type": "markdown",
   "metadata": {},
   "source": [
    "TAB completion also works for methods of Python object. Type `b.` then type TAB."
   ]
  },
  {
   "cell_type": "code",
   "execution_count": 7,
   "metadata": {},
   "outputs": [],
   "source": [
    "b = [1, 2, 3, 4, 5, 6, 7, 8]"
   ]
  },
  {
   "cell_type": "code",
   "execution_count": 8,
   "metadata": {},
   "outputs": [
    {
     "data": {
      "text/plain": [
       "8"
      ]
     },
     "execution_count": 8,
     "metadata": {},
     "output_type": "execute_result"
    }
   ],
   "source": [
    "b.pop()"
   ]
  },
  {
   "cell_type": "markdown",
   "metadata": {},
   "source": [
    "IPython can display information and documentation about objects or functions if you add a `?` before/after the name, like `?b` or `b?`. Print the documentation of the object `code` in the cell below."
   ]
  },
  {
   "cell_type": "code",
   "execution_count": 9,
   "metadata": {},
   "outputs": [],
   "source": [
    "#?code"
   ]
  },
  {
   "cell_type": "markdown",
   "metadata": {},
   "source": [
    "If you use a double `??` on a function, it will try to display the source code of the function. Print the source code of the function randrange from the random library in the cell below. "
   ]
  },
  {
   "cell_type": "code",
   "execution_count": 10,
   "metadata": {},
   "outputs": [],
   "source": [
    "from random import randrange\n",
    "#??randrange"
   ]
  },
  {
   "cell_type": "markdown",
   "metadata": {},
   "source": [
    "IPython has some special commands known as \"magic command\". They are preceeded with a `%`. There are many magic commands, you can list them with `%lsmagic`, and then read the documentation with `%some_command?`. Some of them are :\n",
    "\n",
    "* `%run path/to/script.py` : run the script.py file, print the result in notebook. Variables/functions declared in script.py can then be used in the notebook.\n",
    "* `%timeit` : measure the execution time of a function or a block of code.\n",
    "* `%reset` : delete all declared variables."
   ]
  },
  {
   "cell_type": "code",
   "execution_count": 11,
   "metadata": {},
   "outputs": [],
   "source": [
    "def f(a, b, c):\n",
    "    return (a ** b) % c"
   ]
  },
  {
   "cell_type": "code",
   "execution_count": 12,
   "metadata": {},
   "outputs": [
    {
     "name": "stdout",
     "output_type": "stream",
     "text": [
      "5.58 µs ± 134 ns per loop (mean ± std. dev. of 7 runs, 100000 loops each)\n"
     ]
    }
   ],
   "source": [
    "%timeit f(7999, 123, 10000007)"
   ]
  },
  {
   "cell_type": "markdown",
   "metadata": {},
   "source": [
    "IPython can also run UNIX commands by preceeding the name of the command with `!`. Use this syntax to know the current working directory, and print the date and calendar of the current month."
   ]
  },
  {
   "cell_type": "code",
   "execution_count": 13,
   "metadata": {},
   "outputs": [
    {
     "name": "stdout",
     "output_type": "stream",
     "text": [
      "/home/tca/work/data-analysis/session-1\n",
      "Wed 16 Oct 2019 08:49:23 AM CEST\n",
      "    October 2019      \n",
      "Su Mo Tu We Th Fr Sa  \n",
      "       1  2  3  4  5  \n",
      " 6  7  8  9 10 11 12  \n",
      "13 14 15 \u001b[7m16\u001b[m 17 18 19  \n",
      "20 21 22 23 24 25 26  \n",
      "27 28 29 30 31        \n",
      "                      \n"
     ]
    }
   ],
   "source": [
    "!pwd  # current working directory\n",
    "!date # date\n",
    "!cal  # calendar of current month"
   ]
  },
  {
   "cell_type": "markdown",
   "metadata": {},
   "source": [
    "TAB completion also work when you want to use UNIX commands to interact with files or directories in your system. Type `!ls -l /ho` then TAB to get information about files in your HOME directory."
   ]
  },
  {
   "cell_type": "code",
   "execution_count": 14,
   "metadata": {},
   "outputs": [
    {
     "name": "stdout",
     "output_type": "stream",
     "text": [
      "total 12\r\n",
      "drwxr-xr-x. 27 tca tca 12288 Oct 15 23:30 tca\r\n"
     ]
    }
   ],
   "source": [
    "!ls -l /home/"
   ]
  },
  {
   "cell_type": "markdown",
   "metadata": {},
   "source": [
    "## Numpy"
   ]
  },
  {
   "cell_type": "markdown",
   "metadata": {},
   "source": [
    "Numpy is a Python library that implements very fast arrays operations as well as a faster data structure for multi-dimensional arrays (ndarrays). Numpy is the fundamental library for scientific computing and data analysis, as many other libraries (pandas, scipy...) are built on top of it.\n",
    "\n",
    "Numpy has many routines written in C/C++/FORTRAN and provides tools to integrate code written in these languages when high performances are required. This means that a program  doing computations with Numpy is **A LOT faster** than the same program written in pure Python.\n",
    "\n",
    "The first thing in many Numpy programs is to import the library. The name `np` is a convention (and you might find it very often if you look for code samples on the Web)."
   ]
  },
  {
   "cell_type": "code",
   "execution_count": 15,
   "metadata": {},
   "outputs": [],
   "source": [
    "import numpy as np"
   ]
  },
  {
   "cell_type": "markdown",
   "metadata": {},
   "source": [
    "### ndarrays : Numpy arrays"
   ]
  },
  {
   "cell_type": "markdown",
   "metadata": {},
   "source": [
    "The main data type of Numpy is the ndarray. It is a multi-dimensional array of homogeneous data (all data have the same type). You can create one by passing a list to the `np.array()` function for 1D array, or a nested list for a multi-dimensional array."
   ]
  },
  {
   "cell_type": "code",
   "execution_count": 16,
   "metadata": {},
   "outputs": [
    {
     "data": {
      "text/plain": [
       "array([  1.3 ,   7.9 ,  11.89, -23.9 ])"
      ]
     },
     "execution_count": 16,
     "metadata": {},
     "output_type": "execute_result"
    }
   ],
   "source": [
    "simple_arr = np.array([1.3, 7.9, 11.89, -23.9])\n",
    "simple_arr"
   ]
  },
  {
   "cell_type": "code",
   "execution_count": 17,
   "metadata": {},
   "outputs": [
    {
     "data": {
      "text/plain": [
       "array([[1, 2, 3],\n",
       "       [4, 5, 6]])"
      ]
     },
     "execution_count": 17,
     "metadata": {},
     "output_type": "execute_result"
    }
   ],
   "source": [
    "arr = np.array([[1, 2, 3], [4, 5, 6]])\n",
    "arr"
   ]
  },
  {
   "cell_type": "markdown",
   "metadata": {},
   "source": [
    "Every ndarrays have a `shape` and a data type `dtype`."
   ]
  },
  {
   "cell_type": "code",
   "execution_count": 18,
   "metadata": {},
   "outputs": [
    {
     "name": "stdout",
     "output_type": "stream",
     "text": [
      "(2, 3)\n",
      "int64\n"
     ]
    }
   ],
   "source": [
    "print(arr.shape)\n",
    "print(arr.dtype)"
   ]
  },
  {
   "cell_type": "markdown",
   "metadata": {},
   "source": [
    "You can also cast a ndarray to change its data type."
   ]
  },
  {
   "cell_type": "code",
   "execution_count": 19,
   "metadata": {},
   "outputs": [
    {
     "data": {
      "text/plain": [
       "array([[1., 2., 3.],\n",
       "       [4., 5., 6.]], dtype=float32)"
      ]
     },
     "execution_count": 19,
     "metadata": {},
     "output_type": "execute_result"
    }
   ],
   "source": [
    "arr.astype(np.float32)"
   ]
  },
  {
   "cell_type": "markdown",
   "metadata": {},
   "source": [
    "Create a 3-dimensional ndarray `forme` of shape (3, 2, 3) where element at coordinates `(i, j, k)` has the value `(i+j)*k`. Change its type to unsigned 16-bit integer."
   ]
  },
  {
   "cell_type": "code",
   "execution_count": 20,
   "metadata": {},
   "outputs": [
    {
     "data": {
      "text/plain": [
       "array([[[0, 0, 0],\n",
       "        [0, 1, 2]],\n",
       "\n",
       "       [[0, 1, 2],\n",
       "        [0, 2, 4]],\n",
       "\n",
       "       [[0, 2, 4],\n",
       "        [0, 3, 6]]], dtype=uint16)"
      ]
     },
     "execution_count": 20,
     "metadata": {},
     "output_type": "execute_result"
    }
   ],
   "source": [
    "values = [[[(i+j)*k for k in range(3)] for j in range(2)] for i in range(3)]\n",
    "forme = np.array(values)\n",
    "forme.astype(np.uint16)"
   ]
  },
  {
   "cell_type": "markdown",
   "metadata": {},
   "source": [
    "Using operators `+, -, /, *, %` or `**` on a ndarray will compute the operation for each element individually."
   ]
  },
  {
   "cell_type": "code",
   "execution_count": 21,
   "metadata": {},
   "outputs": [
    {
     "data": {
      "text/plain": [
       "array([[ 5, 10, 15],\n",
       "       [20, 25, 30]])"
      ]
     },
     "execution_count": 21,
     "metadata": {},
     "output_type": "execute_result"
    }
   ],
   "source": [
    "arr * 5"
   ]
  },
  {
   "cell_type": "code",
   "execution_count": 22,
   "metadata": {},
   "outputs": [
    {
     "data": {
      "text/plain": [
       "array([[-19.1, -18.1, -17.1],\n",
       "       [-16.1, -15.1, -14.1]])"
      ]
     },
     "execution_count": 22,
     "metadata": {},
     "output_type": "execute_result"
    }
   ],
   "source": [
    "arr - 20.1 # cast the elements of arr to float before operation"
   ]
  },
  {
   "cell_type": "code",
   "execution_count": 23,
   "metadata": {},
   "outputs": [
    {
     "data": {
      "text/plain": [
       "array([[1.        , 1.41421356, 1.73205081],\n",
       "       [2.        , 2.23606798, 2.44948974]])"
      ]
     },
     "execution_count": 23,
     "metadata": {},
     "output_type": "execute_result"
    }
   ],
   "source": [
    "arr ** 0.5"
   ]
  },
  {
   "cell_type": "code",
   "execution_count": 24,
   "metadata": {},
   "outputs": [
    {
     "data": {
      "text/plain": [
       "array([[1.        , 0.5       , 0.33333333],\n",
       "       [0.25      , 0.2       , 0.16666667]])"
      ]
     },
     "execution_count": 24,
     "metadata": {},
     "output_type": "execute_result"
    }
   ],
   "source": [
    "1 / arr"
   ]
  },
  {
   "cell_type": "markdown",
   "metadata": {},
   "source": [
    "### Creating ndarrays"
   ]
  },
  {
   "cell_type": "markdown",
   "metadata": {},
   "source": [
    "Numpy have some prebuilt functions to create special kind of arrays."
   ]
  },
  {
   "cell_type": "code",
   "execution_count": 25,
   "metadata": {},
   "outputs": [
    {
     "data": {
      "text/plain": [
       "array([1., 1., 1., 1., 1., 1., 1., 1., 1., 1.])"
      ]
     },
     "execution_count": 25,
     "metadata": {},
     "output_type": "execute_result"
    }
   ],
   "source": [
    "# array of ten '1'\n",
    "np.ones(10)"
   ]
  },
  {
   "cell_type": "code",
   "execution_count": 26,
   "metadata": {},
   "outputs": [
    {
     "data": {
      "text/plain": [
       "array([[[1., 1.],\n",
       "        [1., 1.],\n",
       "        [1., 1.]],\n",
       "\n",
       "       [[1., 1.],\n",
       "        [1., 1.],\n",
       "        [1., 1.]]])"
      ]
     },
     "execution_count": 26,
     "metadata": {},
     "output_type": "execute_result"
    }
   ],
   "source": [
    "# multi-dimensional array of '1' (use a tuple as parameter\n",
    "# to specify the dimensions)\n",
    "np.ones((2, 3, 2)) "
   ]
  },
  {
   "cell_type": "code",
   "execution_count": 27,
   "metadata": {},
   "outputs": [
    {
     "data": {
      "text/plain": [
       "array([[0., 0., 0., 0.],\n",
       "       [0., 0., 0., 0.]])"
      ]
     },
     "execution_count": 27,
     "metadata": {},
     "output_type": "execute_result"
    }
   ],
   "source": [
    "# multi-dimensional array of '0'\n",
    "np.zeros((2, 4)) "
   ]
  },
  {
   "cell_type": "code",
   "execution_count": 28,
   "metadata": {},
   "outputs": [
    {
     "data": {
      "text/plain": [
       "array([[1., 0., 0., 0.],\n",
       "       [0., 1., 0., 0.],\n",
       "       [0., 0., 1., 0.],\n",
       "       [0., 0., 0., 1.]])"
      ]
     },
     "execution_count": 28,
     "metadata": {},
     "output_type": "execute_result"
    }
   ],
   "source": [
    "# 4x4 identity matrix\n",
    "np.eye(4) "
   ]
  },
  {
   "cell_type": "code",
   "execution_count": 29,
   "metadata": {},
   "outputs": [
    {
     "data": {
      "text/plain": [
       "array([ 0,  1,  2,  3,  4,  5,  6,  7,  8,  9, 10, 11, 12, 13, 14, 15])"
      ]
     },
     "execution_count": 29,
     "metadata": {},
     "output_type": "execute_result"
    }
   ],
   "source": [
    "# array of integers from 0 to 15\n",
    "np.arange(16)"
   ]
  },
  {
   "cell_type": "code",
   "execution_count": 30,
   "metadata": {},
   "outputs": [
    {
     "data": {
      "text/plain": [
       "array([[0, 1, 2],\n",
       "       [3, 4, 5],\n",
       "       [6, 7, 8]])"
      ]
     },
     "execution_count": 30,
     "metadata": {},
     "output_type": "execute_result"
    }
   ],
   "source": [
    "# you can transform a 1D array to a matrix with the \n",
    "# reshape() method\n",
    "np.arange(9).reshape((3, 3))"
   ]
  },
  {
   "cell_type": "code",
   "execution_count": 31,
   "metadata": {},
   "outputs": [
    {
     "name": "stdout",
     "output_type": "stream",
     "text": [
      "(2, 6)\n",
      "(3, 4)\n",
      "(2, 6)\n"
     ]
    }
   ],
   "source": [
    "# reshape() can also be used to change the \n",
    "# dimensions of an exsiting matrix\n",
    "x = np.ones((2, 6))\n",
    "print(x.shape)\n",
    "y = x.reshape((3, 4))  # create new matrix, x remains a (2,6) matrix\n",
    "print(y.shape)\n",
    "print(x.shape) # same as before"
   ]
  },
  {
   "cell_type": "markdown",
   "metadata": {},
   "source": [
    "Use the prebuilt functions as well as the operations between matrices and scalar to build a (6, 6) matrix that looks like this:\n",
    "```\n",
    " 5.2   11.2   12.2   ...  15.2\n",
    "16.2   12.2   18.2   ...  21.2\n",
    "  ...\n",
    "40.2   41.2               40.2\n",
    "```"
   ]
  },
  {
   "cell_type": "code",
   "execution_count": 32,
   "metadata": {},
   "outputs": [
    {
     "data": {
      "text/plain": [
       "array([[ 5.2, 11.2, 12.2, 13.2, 14.2, 15.2],\n",
       "       [16.2, 12.2, 18.2, 19.2, 20.2, 21.2],\n",
       "       [22.2, 23.2, 19.2, 25.2, 26.2, 27.2],\n",
       "       [28.2, 29.2, 30.2, 26.2, 32.2, 33.2],\n",
       "       [34.2, 35.2, 36.2, 37.2, 33.2, 39.2],\n",
       "       [40.2, 41.2, 42.2, 43.2, 44.2, 40.2]])"
      ]
     },
     "execution_count": 32,
     "metadata": {},
     "output_type": "execute_result"
    }
   ],
   "source": [
    "mat = np.arange(36).reshape(6,6) + 10.2 - 5 * np.eye(6)\n",
    "mat"
   ]
  },
  {
   "cell_type": "markdown",
   "metadata": {},
   "source": [
    "### Operations on matrices"
   ]
  },
  {
   "cell_type": "markdown",
   "metadata": {},
   "source": [
    "You can access the elements of a 1D ndarray in the same way as for a Python list."
   ]
  },
  {
   "cell_type": "code",
   "execution_count": 33,
   "metadata": {},
   "outputs": [
    {
     "name": "stdout",
     "output_type": "stream",
     "text": [
      "a = [0 1 2 3 4 5 6 7 8 9]\n",
      "a[6] = 6\n",
      "a[2:5] = [2 3 4]\n"
     ]
    }
   ],
   "source": [
    "a = np.arange(10)\n",
    "print(\"a =\", a)\n",
    "print(\"a[6] =\", a[6])\n",
    "print(\"a[2:5] =\", a[2:5])"
   ]
  },
  {
   "cell_type": "markdown",
   "metadata": {},
   "source": [
    "When you slice a ndarray and assign it to another variable, you actually create **a view**: the elements are not copied, they are still the elements of the original array. This means that any modifications you do on a view will modify the original array as well.\n",
    "\n",
    "Most of the operations you can do on a ndarray will return a view, so be careful when you use them."
   ]
  },
  {
   "cell_type": "code",
   "execution_count": 34,
   "metadata": {},
   "outputs": [
    {
     "name": "stdout",
     "output_type": "stream",
     "text": [
      "[0 1 2 3 4 5 6 7 8 9]\n",
      "[  0   1   2   3 999   5   6   7   8   9]\n"
     ]
    }
   ],
   "source": [
    "x = np.arange(10)\n",
    "print(x)\n",
    "slice_x = x[3:7]\n",
    "slice_x[1] = 999\n",
    "print(x) # x now contains the value 999, even if we modified slice_x"
   ]
  },
  {
   "cell_type": "markdown",
   "metadata": {},
   "source": [
    "For multi-dimensional arrays, you can use the Python syntax ``ar[i][j]`` or the simpler version ``ar[i, j]``. In this case, ``i`` represents the row, ``j`` represents the column. If you use ``:`` as a row (resp. column), it will select all rows (resp. columns) according to the column (resp. row)."
   ]
  },
  {
   "cell_type": "code",
   "execution_count": 35,
   "metadata": {},
   "outputs": [
    {
     "name": "stdout",
     "output_type": "stream",
     "text": [
      "[[ 0  1  2  3  4]\n",
      " [ 5  6  7  8  9]\n",
      " [10 11 12 13 14]\n",
      " [15 16 17 18 19]]\n",
      "7\n",
      "7\n",
      "[ 1  6 11 16]\n"
     ]
    }
   ],
   "source": [
    "m = np.arange(20).reshape(4,5)\n",
    "print(m)\n",
    "print(m[1][2]) # element in row 2, col 3\n",
    "print(m[1, 2]) # same\n",
    "print(m[:,1])  # all rows in col 2 = entire col 2"
   ]
  },
  {
   "cell_type": "code",
   "execution_count": 36,
   "metadata": {},
   "outputs": [
    {
     "name": "stdout",
     "output_type": "stream",
     "text": [
      "[[1 2 3]\n",
      " [4 5 6]\n",
      " [7 8 9]]\n",
      "[[2 3]\n",
      " [5 6]]\n"
     ]
    }
   ],
   "source": [
    "# use the correct indexes to select the square    2  3\n",
    "#                                                 5  6\n",
    "# from the matrix U\n",
    "U = np.array([[1, 2, 3], [4, 5, 6], [7, 8, 9]])\n",
    "print(U)\n",
    "print(U[:2,1:])"
   ]
  },
  {
   "cell_type": "markdown",
   "metadata": {},
   "source": [
    "Doing operations between two arrays with same dimensions will compute the operation elementwise."
   ]
  },
  {
   "cell_type": "code",
   "execution_count": 37,
   "metadata": {},
   "outputs": [
    {
     "name": "stdout",
     "output_type": "stream",
     "text": [
      "[[1 2]\n",
      " [3 4]]\n",
      "[[ 7 -3]\n",
      " [19 22]]\n",
      "[[ 7 -6]\n",
      " [57 88]]\n"
     ]
    }
   ],
   "source": [
    "z = np.array([[1, 2], [3, 4]])\n",
    "e = np.array([[7, -3], [19, 22]])\n",
    "print(z)\n",
    "print(e)\n",
    "print(z * e)"
   ]
  },
  {
   "cell_type": "markdown",
   "metadata": {},
   "source": [
    "You can also select rows/columns/elements given a condition."
   ]
  },
  {
   "cell_type": "code",
   "execution_count": 38,
   "metadata": {},
   "outputs": [
    {
     "name": "stdout",
     "output_type": "stream",
     "text": [
      "[[ 0.06268912 -0.66037741  0.76661767]\n",
      " [-1.36625418 -0.28187321  0.28199979]\n",
      " [ 1.74066616  0.15283003  0.05438002]\n",
      " [-1.68060769  1.11239734 -1.36813396]]\n"
     ]
    }
   ],
   "source": [
    "d = np.random.randn(4,3)\n",
    "print(d)        # entire matrix"
   ]
  },
  {
   "cell_type": "code",
   "execution_count": 39,
   "metadata": {},
   "outputs": [
    {
     "name": "stdout",
     "output_type": "stream",
     "text": [
      "[0.06268912 0.76661767 0.28199979 1.74066616 0.15283003 0.05438002\n",
      " 1.11239734]\n"
     ]
    }
   ],
   "source": [
    "print(d[d > 0]) # only the positive values in d"
   ]
  },
  {
   "cell_type": "code",
   "execution_count": 40,
   "metadata": {},
   "outputs": [
    {
     "name": "stdout",
     "output_type": "stream",
     "text": [
      "[[0.06268912 0.         0.76661767]\n",
      " [0.         0.         0.28199979]\n",
      " [1.74066616 0.15283003 0.05438002]\n",
      " [0.         1.11239734 0.        ]]\n"
     ]
    }
   ],
   "source": [
    "d[d < 0] = 0    # modify only negative elements in d\n",
    "print(d)"
   ]
  },
  {
   "cell_type": "markdown",
   "metadata": {},
   "source": [
    "### Common operations on ndarray"
   ]
  },
  {
   "cell_type": "code",
   "execution_count": 41,
   "metadata": {},
   "outputs": [
    {
     "data": {
      "text/plain": [
       "array([[ 0.42471838, -0.27008539],\n",
       "       [-1.03615442, -0.58096694],\n",
       "       [ 1.52823563, -0.28142545],\n",
       "       [-0.14916948, -2.13773832],\n",
       "       [-0.39810692,  0.52354474]])"
      ]
     },
     "execution_count": 41,
     "metadata": {},
     "output_type": "execute_result"
    }
   ],
   "source": [
    "# transpose\n",
    "arr = np.random.randn(2, 5) # 2 rows, 5 cols\n",
    "arr.T # 5 rows, 2 cols"
   ]
  },
  {
   "cell_type": "code",
   "execution_count": 42,
   "metadata": {},
   "outputs": [
    {
     "name": "stdout",
     "output_type": "stream",
     "text": [
      "[[45 41]\n",
      " [97 79]]\n",
      "[[45 41]\n",
      " [97 79]]\n"
     ]
    }
   ],
   "source": [
    "# dot product\n",
    "print(np.dot(z, e))\n",
    "print(z.dot(e))"
   ]
  },
  {
   "cell_type": "code",
   "execution_count": 43,
   "metadata": {},
   "outputs": [
    {
     "name": "stdout",
     "output_type": "stream",
     "text": [
      "[[0.         0.69314718]\n",
      " [1.09861229 1.38629436]]\n",
      "[[ 0.99999834 -0.99505475]\n",
      " [ 1.          1.        ]]\n"
     ]
    }
   ],
   "source": [
    "# elementwise functions. Take only 1 ndarray in argument\n",
    "print(np.log(z))\n",
    "print(np.tanh(e))"
   ]
  },
  {
   "cell_type": "code",
   "execution_count": 44,
   "metadata": {},
   "outputs": [
    {
     "name": "stdout",
     "output_type": "stream",
     "text": [
      "[[ 8 -1]\n",
      " [22 26]]\n",
      "[[ 1 -3]\n",
      " [ 3  4]]\n",
      "[[False  True]\n",
      " [False False]]\n"
     ]
    }
   ],
   "source": [
    "# functions between two ndarrays\n",
    "print(np.add(z, e))     # same as z + e\n",
    "print(np.minimum(z, e)) # elementwise minimum\n",
    "print(z > e)            # elementwise comparison"
   ]
  },
  {
   "cell_type": "code",
   "execution_count": 45,
   "metadata": {},
   "outputs": [
    {
     "name": "stdout",
     "output_type": "stream",
     "text": [
      "1.9 ms ± 88.4 µs per loop (mean ± std. dev. of 7 runs, 100 loops each)\n"
     ]
    }
   ],
   "source": [
    "# Let's f(x) = exp(sin(x)) and g(x) = sqrt(cosh(x)).\n",
    "# Create a variable L that contains the maximum value\n",
    "# between f(x) and g(x) for x in [-5, 5] and a step\n",
    "# of 0.001. Measure the time needed to create L.\n",
    "\n",
    "# to measure the time needed to create L, we need to\n",
    "# put everything into a function, then measure the time\n",
    "# needed to run that function\n",
    "def compute_L():\n",
    "    x = np.linspace(-5, 5, 10001)    \n",
    "    L = np.maximum(np.exp(np.sin(x)), np.sqrt(np.cosh(x)))\n",
    "    return L\n",
    "\n",
    "%timeit compute_L()"
   ]
  },
  {
   "cell_type": "markdown",
   "metadata": {},
   "source": [
    "Most of the functions that compute statistics on ndarrays can be global (like computing the mean of every elements of a matrix) or along one axis (like computing the mean for every row). By default, `axis=0` operates on columns while `axis=1` operates on rows."
   ]
  },
  {
   "cell_type": "code",
   "execution_count": 46,
   "metadata": {},
   "outputs": [
    {
     "name": "stdout",
     "output_type": "stream",
     "text": [
      "[[ 0  1  2  3  4]\n",
      " [ 5  6  7  8  9]\n",
      " [10 11 12 13 14]\n",
      " [15 16 17 18 19]]\n",
      "9.5\n",
      "[ 7.5  8.5  9.5 10.5 11.5]\n",
      "[ 2.  7. 12. 17.]\n"
     ]
    }
   ],
   "source": [
    "m = np.arange(20).reshape(4,5)\n",
    "print(m)\n",
    "print(m.mean())        # global mean\n",
    "print(m.mean(axis=0))  # mean of every columns\n",
    "print(m.mean(axis=1))  # mean of every rows"
   ]
  },
  {
   "cell_type": "code",
   "execution_count": 47,
   "metadata": {},
   "outputs": [
    {
     "name": "stdout",
     "output_type": "stream",
     "text": [
      "-- x\n",
      " [[-2. 11. 15. -4.]\n",
      " [ 2.  7. 17.  5.]\n",
      " [-0.  8. -7.  4.]\n",
      " [ 2. -6. -3.  3.]]\n",
      "-- sorted cols\n",
      " [[-2. -6. -7. -4.]\n",
      " [-0.  7. -3.  3.]\n",
      " [ 2.  8. 15.  4.]\n",
      " [ 2. 11. 17.  5.]]\n",
      "-- sorted rows\n",
      " [[-4. -2. 11. 15.]\n",
      " [ 2.  5.  7. 17.]\n",
      " [-7. -0.  4.  8.]\n",
      " [-6. -3.  2.  3.]]\n"
     ]
    }
   ],
   "source": [
    "# the same thing happens for other methods like sort()\n",
    "x = np.ceil(np.random.randn(4, 4) * 7 + 1)\n",
    "print(\"-- x\\n\", x)\n",
    "print(\"-- sorted cols\\n\", np.sort(x, axis=0))  # sort columns\n",
    "print(\"-- sorted rows\\n\", np.sort(x, axis=1))  # sort rows"
   ]
  },
  {
   "cell_type": "markdown",
   "metadata": {},
   "source": [
    "## Matplotlib"
   ]
  },
  {
   "cell_type": "markdown",
   "metadata": {},
   "source": [
    "Making plots and static/interactive visualizations is **one of the most important tasks in data analysis**. Matplotlib is a Python library to create plots to visualize data. Plots can be displayed directly in a Jupyter notebook or can be saved as JPG, PNG, SVG... for future use. The first thing to do before using it is to import it. The `plt` name is also a convention that you can find on many web resources dealing with Matplotlib."
   ]
  },
  {
   "cell_type": "code",
   "execution_count": 48,
   "metadata": {},
   "outputs": [],
   "source": [
    "import matplotlib.pyplot as plt\n",
    "#%matplotlib # commented so charts are included in the solutions notebook"
   ]
  },
  {
   "cell_type": "markdown",
   "metadata": {},
   "source": [
    "### First plots"
   ]
  },
  {
   "cell_type": "markdown",
   "metadata": {},
   "source": [
    "The main function to create a plot is simply `plot()`. You can  pass a list of values `ar` and the library will draw a line joining all points `(i, ar[i])`. You can also pass two lists `x` and `y`: in this case, the line will join the points `(x[i], y[i])`."
   ]
  },
  {
   "cell_type": "code",
   "execution_count": 49,
   "metadata": {},
   "outputs": [
    {
     "data": {
      "text/plain": [
       "[<matplotlib.lines.Line2D at 0x72ca26aec150>]"
      ]
     },
     "execution_count": 49,
     "metadata": {},
     "output_type": "execute_result"
    },
    {
     "data": {
      "image/png": "[encoded data removed]",
      "text/plain": [
       "<Figure size 432x288 with 1 Axes>"
      ]
     },
     "metadata": {
      "needs_background": "light"
     },
     "output_type": "display_data"
    }
   ],
   "source": [
    "plt.plot([3, 7, -2, 2.2, 3])"
   ]
  },
  {
   "cell_type": "code",
   "execution_count": 50,
   "metadata": {},
   "outputs": [
    {
     "data": {
      "text/plain": [
       "[<matplotlib.lines.Line2D at 0x72ca2417ff50>]"
      ]
     },
     "execution_count": 50,
     "metadata": {},
     "output_type": "execute_result"
    },
    {
     "data": {
      "image/png": "[encoded data removed]",
      "text/plain": [
       "<Figure size 432x288 with 1 Axes>"
      ]
     },
     "metadata": {
      "needs_background": "light"
     },
     "output_type": "display_data"
    }
   ],
   "source": [
    "plt.plot([5, 10, 20, 21], [3.6, 4.2, 3.88, 6.3])"
   ]
  },
  {
   "cell_type": "markdown",
   "metadata": {},
   "source": [
    "As you can see, the plots are displayed inside the Jupyter notebook, but they are not really interactive. Try to add the magic command `%matplotlib` right after we loaded the library, and run again the examples. What are the differences ?"
   ]
  },
  {
   "cell_type": "markdown",
   "metadata": {},
   "source": [
    "**Answer**: with `%matplotlib` on, plots are printed in an external window. This window is more interactive as it allows zooming, spanning, saving, reading coordinates of the cursor..."
   ]
  },
  {
   "cell_type": "markdown",
   "metadata": {},
   "source": [
    "### Creating plots"
   ]
  },
  {
   "cell_type": "markdown",
   "metadata": {},
   "source": [
    "Plots reside in a Figure object. It is like a blank canvas where the library will draw the plots. A figure is automatically created if you call the `plot()` method."
   ]
  },
  {
   "cell_type": "code",
   "execution_count": 51,
   "metadata": {},
   "outputs": [
    {
     "data": {
      "text/plain": [
       "<Figure size 432x288 with 0 Axes>"
      ]
     },
     "metadata": {},
     "output_type": "display_data"
    }
   ],
   "source": [
    "fig = plt.figure() # manually create a figure"
   ]
  },
  {
   "cell_type": "markdown",
   "metadata": {},
   "source": [
    "You cannot directly draw a plot on an empty figure, you need to create one or more subplots. Then you can draw on the subplots."
   ]
  },
  {
   "cell_type": "code",
   "execution_count": 52,
   "metadata": {},
   "outputs": [],
   "source": [
    "ax1 = fig.add_subplot(2, 2, 1) # divide the figure in 2 x 2 grid, add axes in position 1\n",
    "ax2 = fig.add_subplot(2, 2, 2) # divide the figure in 2 x 2 grid, add axes in position 2"
   ]
  },
  {
   "cell_type": "code",
   "execution_count": 53,
   "metadata": {},
   "outputs": [
    {
     "data": {
      "text/plain": [
       "[<matplotlib.lines.Line2D at 0x72ca23a5d210>]"
      ]
     },
     "execution_count": 53,
     "metadata": {},
     "output_type": "execute_result"
    }
   ],
   "source": [
    "ax1.plot(np.arange(5))  # draw a line on the ax1 subplot"
   ]
  },
  {
   "cell_type": "code",
   "execution_count": 54,
   "metadata": {},
   "outputs": [
    {
     "data": {
      "text/plain": [
       "[<matplotlib.lines.Line2D at 0x72ca23a5df90>]"
      ]
     },
     "execution_count": 54,
     "metadata": {},
     "output_type": "execute_result"
    },
    {
     "data": {
      "image/png": "[encoded data removed]",
      "text/plain": [
       "<Figure size 432x288 with 6 Axes>"
      ]
     },
     "metadata": {
      "needs_background": "light"
     },
     "output_type": "display_data"
    }
   ],
   "source": [
    "# you can create both a figure and all its subplots at the same time\n",
    "# here we create 6 subplots, 2 rows of 3, and add a plot in the right\n",
    "# of the bottom row\n",
    "fig2, axes = plt.subplots(2,3)\n",
    "axes[1][2].plot(np.random.randn(5))"
   ]
  },
  {
   "cell_type": "markdown",
   "metadata": {},
   "source": [
    "### Customizing plots"
   ]
  },
  {
   "cell_type": "markdown",
   "metadata": {},
   "source": [
    "You can change the color and style of the line with some attributes. Look at the documentation of `plot()` to see all the available options."
   ]
  },
  {
   "cell_type": "code",
   "execution_count": 55,
   "metadata": {},
   "outputs": [
    {
     "data": {
      "text/plain": [
       "<matplotlib.legend.Legend at 0x72ca238738d0>"
      ]
     },
     "execution_count": 55,
     "metadata": {},
     "output_type": "execute_result"
    },
    {
     "data": {
      "image/png": "[encoded data removed]",
      "text/plain": [
       "<Figure size 432x288 with 1 Axes>"
      ]
     },
     "metadata": {
      "needs_background": "light"
     },
     "output_type": "display_data"
    }
   ],
   "source": [
    "fig, ax = plt.subplots(1, 1)\n",
    "ax.plot(np.random.randn(10), linestyle='--', color='green', marker='d', label=\"Score J1\")\n",
    "ax.plot(3 * np.random.randn(10), linestyle=':', color='r', marker='o', label=\"Score J2\")\n",
    "ax.legend()\n",
    "\n",
    "# try to add a label attribute to both line. Then call\n",
    "# ax.legend() to print the legend on the plot."
   ]
  },
  {
   "cell_type": "code",
   "execution_count": 56,
   "metadata": {},
   "outputs": [
    {
     "data": {
      "text/plain": [
       "<matplotlib.legend.Legend at 0x72ca237a9190>"
      ]
     },
     "execution_count": 56,
     "metadata": {},
     "output_type": "execute_result"
    },
    {
     "data": {
      "image/png": "[encoded data removed]",
      "text/plain": [
       "<Figure size 432x288 with 1 Axes>"
      ]
     },
     "metadata": {
      "needs_background": "light"
     },
     "output_type": "display_data"
    }
   ],
   "source": [
    "# plot the following function representations on the same plot:\n",
    "#  - sin(3*x) in magenta dashed line with hexagon marker\n",
    "#  - cos(2* pi * x) in blue solid line with square marker\n",
    "fig2, ax2 = plt.subplots(1, 1)\n",
    "x = np.arange(-1, 1.1, 0.1)\n",
    "ax2.plot(x, np.sin(3*x), color=\"magenta\", linestyle='--', marker='h', label=\"sin(3x)\")\n",
    "ax2.plot(x, np.cos(2*np.pi*x), color=\"blue\", linestyle='-', marker='s', label=\"cos(2pi x)\")\n",
    "ax2.legend()"
   ]
  },
  {
   "cell_type": "markdown",
   "metadata": {},
   "source": [
    "Once you have created a plot, you can add a title, set the coordinates of the ticks on X or Y axis, set a title for both axis... Run the code cell after each time you uncomment a line to see the difference."
   ]
  },
  {
   "cell_type": "code",
   "execution_count": 57,
   "metadata": {},
   "outputs": [
    {
     "data": {
      "text/plain": [
       "Text(0.5, 1.0, 'Evolution of my skill at Tetris')"
      ]
     },
     "execution_count": 57,
     "metadata": {},
     "output_type": "execute_result"
    },
    {
     "data": {
      "image/png": "[encoded data removed]",
      "text/plain": [
       "<Figure size 432x288 with 1 Axes>"
      ]
     },
     "metadata": {
      "needs_background": "light"
     },
     "output_type": "display_data"
    }
   ],
   "source": [
    "fig = plt.figure()\n",
    "ax = fig.add_subplot(1, 1, 1)\n",
    "ax.plot(np.random.randn(1000).cumsum())\n",
    "\n",
    "# set a tick at 0, 250, 500, 750 and 1000 on x-axis\n",
    "ax.set_xticks([0, 250, 500, 750, 1000])\n",
    "\n",
    "# replace numbers on x-axis with a name\n",
    "ax.set_xticklabels(['one', 'two', 'three', 'four', 'five'], rotation=30)\n",
    "\n",
    "# set a name for the x-axis\n",
    "ax.set_xlabel('Levels')\n",
    "\n",
    "# set the title of the plot\n",
    "ax.set_title(\"Evolution of my skill at Tetris\")"
   ]
  },
  {
   "cell_type": "markdown",
   "metadata": {},
   "source": [
    "### Types of plot"
   ]
  },
  {
   "cell_type": "markdown",
   "metadata": {},
   "source": [
    "The most used type of plot is the line plot, but there are some other types:\n",
    "\n",
    "* `plt.scatter(x, y)`: draw points `(x[i], y[i])`, but no line between the points. Useful if you have a bunch of data points and you want to visualize them to get the general trend.\n",
    "* `plt.hist(X, bins=50)`: draw an histogram of X composed of 50 equally spaced buckets."
   ]
  },
  {
   "cell_type": "code",
   "execution_count": 58,
   "metadata": {},
   "outputs": [
    {
     "data": {
      "text/plain": [
       "<matplotlib.collections.PathCollection at 0x72ca2371b810>"
      ]
     },
     "execution_count": 58,
     "metadata": {},
     "output_type": "execute_result"
    },
    {
     "data": {
      "image/png": "[encoded data removed]",
      "text/plain": [
       "<Figure size 432x288 with 1 Axes>"
      ]
     },
     "metadata": {
      "needs_background": "light"
     },
     "output_type": "display_data"
    }
   ],
   "source": [
    "plt.scatter(np.arange(30), np.random.randn(30) * 3 + np.arange(30))"
   ]
  },
  {
   "cell_type": "code",
   "execution_count": 59,
   "metadata": {},
   "outputs": [
    {
     "data": {
      "image/png": "[encoded data removed]",
      "text/plain": [
       "<Figure size 432x288 with 1 Axes>"
      ]
     },
     "metadata": {
      "needs_background": "light"
     },
     "output_type": "display_data"
    }
   ],
   "source": [
    "# put it in a variable because plt.hist() returns a\n",
    "# tuple and ipython would print the tuple values\n",
    "_ = plt.hist(np.random.randn(3000), bins=60)"
   ]
  },
  {
   "cell_type": "markdown",
   "metadata": {},
   "source": [
    "### Saving figures"
   ]
  },
  {
   "cell_type": "markdown",
   "metadata": {},
   "source": [
    "You can save a plot with the `savefig()` method. The type of the image (PNG, SVG, JPEG...) is deduced from the filename. See the full documentation for the complete list of available options."
   ]
  },
  {
   "cell_type": "code",
   "execution_count": 60,
   "metadata": {},
   "outputs": [
    {
     "data": {
      "image/png": "[encoded data removed]",
      "text/plain": [
       "<Figure size 432x288 with 1 Axes>"
      ]
     },
     "metadata": {
      "needs_background": "light"
     },
     "output_type": "display_data"
    }
   ],
   "source": [
    "fig, ax = plt.subplots(1, 1)\n",
    "ax.hist(np.random.randn(3000), bins=60)\n",
    "fig.savefig('myplot.png', bbox_inches='tight')"
   ]
  },
  {
   "cell_type": "markdown",
   "metadata": {},
   "source": [
    "## Pandas"
   ]
  },
  {
   "cell_type": "markdown",
   "metadata": {},
   "source": [
    "Pandas is the main library to carry out data analysis in Python. Pandas is built on top of Numpy and has two main data structures : Series and DataFrame. Both are used to process, manipulate and analyze data. To use Pandas, we import it as follows (`pd` is also a convention in the Python language) :"
   ]
  },
  {
   "cell_type": "code",
   "execution_count": 61,
   "metadata": {},
   "outputs": [],
   "source": [
    "import pandas as pd\n",
    "from pandas import Series, DataFrame"
   ]
  },
  {
   "cell_type": "markdown",
   "metadata": {},
   "source": [
    "### Series"
   ]
  },
  {
   "cell_type": "markdown",
   "metadata": {},
   "source": [
    "A Series is a 1D data structure composed of an array of data (the values), and an associated array of labels (the indexes). If no labels are provided, they default to integers (0, 1, 2...) but they can also be date, strings...\n",
    "\n",
    "A Series can be seen as a **fixed-length sorted dictionary**."
   ]
  },
  {
   "cell_type": "code",
   "execution_count": 62,
   "metadata": {},
   "outputs": [
    {
     "name": "stdout",
     "output_type": "stream",
     "text": [
      "0    11\n",
      "1     9\n",
      "2    -3\n",
      "3     5\n",
      "dtype: int64\n",
      "[11  9 -3  5]\n",
      "RangeIndex(start=0, stop=4, step=1)\n",
      "-3\n"
     ]
    }
   ],
   "source": [
    "# series with integers as indexes\n",
    "obj = Series([11, 9, -3, 5]) # indexes are 0, 1, 2...\n",
    "print(obj)\n",
    "print(obj.values)\n",
    "print(obj.index)\n",
    "print(obj[2]) # get element with index 2"
   ]
  },
  {
   "cell_type": "code",
   "execution_count": 63,
   "metadata": {},
   "outputs": [
    {
     "name": "stdout",
     "output_type": "stream",
     "text": [
      "a    11\n",
      "d     9\n",
      "c    -3\n",
      "r     5\n",
      "dtype: int64\n",
      "Index(['a', 'd', 'c', 'r'], dtype='object')\n",
      "11\n",
      "c   -3\n",
      "d    9\n",
      "r    5\n",
      "dtype: int64\n"
     ]
    }
   ],
   "source": [
    "# series with strings as indexes\n",
    "new_obj = Series([11, 9, -3, 5], index=['a', 'd', 'c', 'r'])\n",
    "print(new_obj)\n",
    "print(new_obj.index)\n",
    "print(new_obj['a'])  # get element with index 'a'\n",
    "print(new_obj[['c', 'd', 'r']]) # get multiples elements simultaneously"
   ]
  },
  {
   "cell_type": "code",
   "execution_count": 64,
   "metadata": {},
   "outputs": [
    {
     "name": "stdout",
     "output_type": "stream",
     "text": [
      "Ohio     35000\n",
      "Texas    71000\n",
      "Utah      5000\n",
      "dtype: int64\n"
     ]
    }
   ],
   "source": [
    "# Series are like dictionaries. You can even create a Series \n",
    "# with a dictionary.\n",
    "d = {\"Ohio\": 35000, \"Texas\": 71000, \"Utah\": 5000}\n",
    "obj2 = Series(d)\n",
    "print(obj2)"
   ]
  },
  {
   "cell_type": "markdown",
   "metadata": {},
   "source": [
    "You can add two Series together. It will sum the values of common indexes, and set a NaN for values that are specific to only one of the Series. This is called **data alignment**."
   ]
  },
  {
   "cell_type": "code",
   "execution_count": 65,
   "metadata": {},
   "outputs": [
    {
     "name": "stdout",
     "output_type": "stream",
     "text": [
      "a    NaN\n",
      "b    NaN\n",
      "c   -2.0\n",
      "d    NaN\n",
      "e    NaN\n",
      "r   -1.0\n",
      "dtype: float64\n"
     ]
    },
    {
     "data": {
      "text/plain": [
       "a     True\n",
       "b     True\n",
       "c    False\n",
       "d     True\n",
       "e     True\n",
       "r    False\n",
       "dtype: bool"
      ]
     },
     "execution_count": 65,
     "metadata": {},
     "output_type": "execute_result"
    }
   ],
   "source": [
    "new_obj2 = Series([2, -6, 8, 1], index=['b', 'r', 'e', 'c'])\n",
    "new_obj3 = new_obj + new_obj2\n",
    "print(new_obj3)\n",
    "# call the method .isnull() on new_obj3. Can you tell what it does ?\n",
    "\n",
    "new_obj3.isnull()\n",
    "# isnull() creates a Series with the same indexes as new_obj3 but the\n",
    "# values are either True or False depending on whether the corresponding\n",
    "# value is NaN or not."
   ]
  },
  {
   "cell_type": "markdown",
   "metadata": {},
   "source": [
    "### DataFrame"
   ]
  },
  {
   "cell_type": "markdown",
   "metadata": {},
   "source": [
    "DataFrames (DF) represent tabular data, like a spreadsheet. It contains an ordered collection of columns, as well as rows that can be labeled with indexes. DataFrame are like a dictionary of Series where each column is a Series."
   ]
  },
  {
   "cell_type": "code",
   "execution_count": 66,
   "metadata": {},
   "outputs": [
    {
     "data": {
      "text/html": [
       "<div>\n",
       "<style scoped>\n",
       "    .dataframe tbody tr th:only-of-type {\n",
       "        vertical-align: middle;\n",
       "    }\n",
       "\n",
       "    .dataframe tbody tr th {\n",
       "        vertical-align: top;\n",
       "    }\n",
       "\n",
       "    .dataframe thead th {\n",
       "        text-align: right;\n",
       "    }\n",
       "</style>\n",
       "<table border=\"1\" class=\"dataframe\">\n",
       "  <thead>\n",
       "    <tr style=\"text-align: right;\">\n",
       "      <th></th>\n",
       "      <th>state</th>\n",
       "      <th>year</th>\n",
       "      <th>pop</th>\n",
       "      <th>area</th>\n",
       "    </tr>\n",
       "  </thead>\n",
       "  <tbody>\n",
       "    <tr>\n",
       "      <td>0</td>\n",
       "      <td>Ohio</td>\n",
       "      <td>2000</td>\n",
       "      <td>1.5</td>\n",
       "      <td>116</td>\n",
       "    </tr>\n",
       "    <tr>\n",
       "      <td>1</td>\n",
       "      <td>Ohio</td>\n",
       "      <td>2001</td>\n",
       "      <td>1.7</td>\n",
       "      <td>116</td>\n",
       "    </tr>\n",
       "    <tr>\n",
       "      <td>2</td>\n",
       "      <td>Ohio</td>\n",
       "      <td>2002</td>\n",
       "      <td>3.6</td>\n",
       "      <td>116</td>\n",
       "    </tr>\n",
       "    <tr>\n",
       "      <td>3</td>\n",
       "      <td>Nevada</td>\n",
       "      <td>2001</td>\n",
       "      <td>2.4</td>\n",
       "      <td>286</td>\n",
       "    </tr>\n",
       "    <tr>\n",
       "      <td>4</td>\n",
       "      <td>Nevada</td>\n",
       "      <td>2002</td>\n",
       "      <td>2.9</td>\n",
       "      <td>286</td>\n",
       "    </tr>\n",
       "  </tbody>\n",
       "</table>\n",
       "</div>"
      ],
      "text/plain": [
       "    state  year  pop  area\n",
       "0    Ohio  2000  1.5   116\n",
       "1    Ohio  2001  1.7   116\n",
       "2    Ohio  2002  3.6   116\n",
       "3  Nevada  2001  2.4   286\n",
       "4  Nevada  2002  2.9   286"
      ]
     },
     "execution_count": 66,
     "metadata": {},
     "output_type": "execute_result"
    }
   ],
   "source": [
    "# the most common way to create a DataFrame is with a dictionary.\n",
    "data = {'state': ['Ohio', 'Ohio', 'Ohio', 'Nevada', 'Nevada'],\n",
    "        'year':  [  2000,   2001,   2002,     2001,     2002],\n",
    "        'pop':   [   1.5,    1.7,    3.6,      2.4,      2.9],\n",
    "        'area':  [   116,    116,    116,      286,      286],\n",
    "       }\n",
    "frame = DataFrame(data)\n",
    "frame # DataFrame are printed nicely within Jupyter notebooks."
   ]
  },
  {
   "cell_type": "code",
   "execution_count": 67,
   "metadata": {},
   "outputs": [
    {
     "data": {
      "text/html": [
       "<div>\n",
       "<style scoped>\n",
       "    .dataframe tbody tr th:only-of-type {\n",
       "        vertical-align: middle;\n",
       "    }\n",
       "\n",
       "    .dataframe tbody tr th {\n",
       "        vertical-align: top;\n",
       "    }\n",
       "\n",
       "    .dataframe thead th {\n",
       "        text-align: right;\n",
       "    }\n",
       "</style>\n",
       "<table border=\"1\" class=\"dataframe\">\n",
       "  <thead>\n",
       "    <tr style=\"text-align: right;\">\n",
       "      <th></th>\n",
       "      <th>state</th>\n",
       "      <th>year</th>\n",
       "      <th>pop</th>\n",
       "      <th>area</th>\n",
       "      <th>debt</th>\n",
       "    </tr>\n",
       "  </thead>\n",
       "  <tbody>\n",
       "    <tr>\n",
       "      <td>one</td>\n",
       "      <td>Ohio</td>\n",
       "      <td>2000</td>\n",
       "      <td>1.5</td>\n",
       "      <td>116</td>\n",
       "      <td>NaN</td>\n",
       "    </tr>\n",
       "    <tr>\n",
       "      <td>two</td>\n",
       "      <td>Ohio</td>\n",
       "      <td>2001</td>\n",
       "      <td>1.7</td>\n",
       "      <td>116</td>\n",
       "      <td>NaN</td>\n",
       "    </tr>\n",
       "    <tr>\n",
       "      <td>three</td>\n",
       "      <td>Ohio</td>\n",
       "      <td>2002</td>\n",
       "      <td>3.6</td>\n",
       "      <td>116</td>\n",
       "      <td>NaN</td>\n",
       "    </tr>\n",
       "    <tr>\n",
       "      <td>four</td>\n",
       "      <td>Nevada</td>\n",
       "      <td>2001</td>\n",
       "      <td>2.4</td>\n",
       "      <td>286</td>\n",
       "      <td>NaN</td>\n",
       "    </tr>\n",
       "    <tr>\n",
       "      <td>five</td>\n",
       "      <td>Nevada</td>\n",
       "      <td>2002</td>\n",
       "      <td>2.9</td>\n",
       "      <td>286</td>\n",
       "      <td>NaN</td>\n",
       "    </tr>\n",
       "  </tbody>\n",
       "</table>\n",
       "</div>"
      ],
      "text/plain": [
       "        state  year  pop  area debt\n",
       "one      Ohio  2000  1.5   116  NaN\n",
       "two      Ohio  2001  1.7   116  NaN\n",
       "three    Ohio  2002  3.6   116  NaN\n",
       "four   Nevada  2001  2.4   286  NaN\n",
       "five   Nevada  2002  2.9   286  NaN"
      ]
     },
     "execution_count": 67,
     "metadata": {},
     "output_type": "execute_result"
    }
   ],
   "source": [
    "# You can set the name of columns and rows when you create a DF.\n",
    "# If you set a column name that is not in data, all rows will have\n",
    "# the value NaN for this column.\n",
    "frame = DataFrame(data, index=['one', 'two', 'three', 'four', 'five'],\n",
    "                        columns=['state', 'year', 'pop', 'area', 'debt'])\n",
    "frame"
   ]
  },
  {
   "cell_type": "markdown",
   "metadata": {},
   "source": [
    "You can extract one column from a DataFrame with a single `[]` and the name of the column, or multiple columns with the double `[[]]` and all the names of the columns you want."
   ]
  },
  {
   "cell_type": "code",
   "execution_count": 68,
   "metadata": {},
   "outputs": [
    {
     "name": "stdout",
     "output_type": "stream",
     "text": [
      "one      2000\n",
      "two      2001\n",
      "three    2002\n",
      "four     2001\n",
      "five     2002\n",
      "Name: year, dtype: int64\n",
      "        state  pop  year\n",
      "one      Ohio  1.5  2000\n",
      "two      Ohio  1.7  2001\n",
      "three    Ohio  3.6  2002\n",
      "four   Nevada  2.4  2001\n",
      "five   Nevada  2.9  2002\n"
     ]
    }
   ],
   "source": [
    "print(frame['year']) # select the year column (1 column)\n",
    "print(frame[['state', 'pop', 'year']]) # select 3 columns (in that order)"
   ]
  },
  {
   "cell_type": "code",
   "execution_count": 69,
   "metadata": {},
   "outputs": [
    {
     "name": "stdout",
     "output_type": "stream",
     "text": [
      "one      2000\n",
      "two      2001\n",
      "three    2002\n",
      "four     2001\n",
      "five     2002\n",
      "Name: year, dtype: int64\n"
     ]
    }
   ],
   "source": [
    "# every column's name of a DF become an attribute\n",
    "print(frame.year) # also select the year column"
   ]
  },
  {
   "cell_type": "markdown",
   "metadata": {},
   "source": [
    "You can select the row of a DF with the `iloc[]` method and its row number, or with the `loc[]` method and the label of the row."
   ]
  },
  {
   "cell_type": "code",
   "execution_count": 70,
   "metadata": {},
   "outputs": [
    {
     "name": "stdout",
     "output_type": "stream",
     "text": [
      "state    Ohio\n",
      "year     2001\n",
      "pop       1.7\n",
      "area      116\n",
      "debt      NaN\n",
      "Name: two, dtype: object\n",
      "state    Nevada\n",
      "year       2001\n",
      "pop         2.4\n",
      "area        286\n",
      "debt        NaN\n",
      "Name: four, dtype: object\n"
     ]
    }
   ],
   "source": [
    "print(frame.iloc[1]) # select second row (because DF are zero-indexed)\n",
    "print(frame.loc[\"four\"]) # select fourth row, because its label is \"four\""
   ]
  },
  {
   "cell_type": "code",
   "execution_count": 71,
   "metadata": {},
   "outputs": [
    {
     "data": {
      "text/html": [
       "<div>\n",
       "<style scoped>\n",
       "    .dataframe tbody tr th:only-of-type {\n",
       "        vertical-align: middle;\n",
       "    }\n",
       "\n",
       "    .dataframe tbody tr th {\n",
       "        vertical-align: top;\n",
       "    }\n",
       "\n",
       "    .dataframe thead th {\n",
       "        text-align: right;\n",
       "    }\n",
       "</style>\n",
       "<table border=\"1\" class=\"dataframe\">\n",
       "  <thead>\n",
       "    <tr style=\"text-align: right;\">\n",
       "      <th></th>\n",
       "      <th>pop</th>\n",
       "      <th>year</th>\n",
       "    </tr>\n",
       "  </thead>\n",
       "  <tbody>\n",
       "    <tr>\n",
       "      <td>one</td>\n",
       "      <td>1.5</td>\n",
       "      <td>2000</td>\n",
       "    </tr>\n",
       "    <tr>\n",
       "      <td>five</td>\n",
       "      <td>2.9</td>\n",
       "      <td>2002</td>\n",
       "    </tr>\n",
       "  </tbody>\n",
       "</table>\n",
       "</div>"
      ],
      "text/plain": [
       "      pop  year\n",
       "one   1.5  2000\n",
       "five  2.9  2002"
      ]
     },
     "execution_count": 71,
     "metadata": {},
     "output_type": "execute_result"
    }
   ],
   "source": [
    "# select only the columns pop and year of rows 'one' and 'five'\n",
    "frame[['pop', 'year']].loc[['one',  'five']]"
   ]
  },
  {
   "cell_type": "markdown",
   "metadata": {},
   "source": [
    "You can set the values of an entire columns with a single value (all rows will be set to this value), or an array (the array must have the same size as the number of rows in DF). You can also add a column with the same syntax."
   ]
  },
  {
   "cell_type": "code",
   "execution_count": 72,
   "metadata": {},
   "outputs": [
    {
     "name": "stdout",
     "output_type": "stream",
     "text": [
      "        state  year  pop  area debt\n",
      "one      Ohio  2000  1.5   116  NaN\n",
      "two      Ohio  2001  1.7   116  NaN\n",
      "three    Ohio  2002  3.6   116  NaN\n",
      "four   Nevada  2001  2.4   286  NaN\n",
      "five   Nevada  2002  2.9   286  NaN\n",
      "\n",
      "         state  year  pop  area  debt\n",
      "one      Ohio  2000  1.5   116    -1\n",
      "two      Ohio  2001  1.7   116    -1\n",
      "three    Ohio  2002  3.6   116    -1\n",
      "four   Nevada  2001  2.4   286    -1\n",
      "five   Nevada  2002  2.9   286    -1\n",
      "\n",
      "         state  year  pop  area  debt\n",
      "one      Ohio  2000  1.5   116    10\n",
      "two      Ohio  2001  1.7   116    11\n",
      "three    Ohio  2002  3.6   116    12\n",
      "four   Nevada  2001  2.4   286     8\n",
      "five   Nevada  2002  2.9   286     9\n",
      "\n",
      "         state  year  pop  area  debt  mayor\n",
      "one      Ohio  2000  1.5   116    10   Thom\n",
      "two      Ohio  2001  1.7   116    11  Jonny\n",
      "three    Ohio  2002  3.6   116    12     Ed\n",
      "four   Nevada  2001  2.4   286     8  Colin\n",
      "five   Nevada  2002  2.9   286     9   Phil\n"
     ]
    }
   ],
   "source": [
    "print(frame)\n",
    "\n",
    "# set all rows to -1\n",
    "frame['debt'] = -1\n",
    "print('\\n', frame)\n",
    "\n",
    "# assign a different value for each row\n",
    "frame['debt'] = [10, 11, 12, 8, 9]\n",
    "print('\\n', frame)\n",
    "\n",
    "# add a new column mayor\n",
    "frame['mayor'] = ['Thom', 'Jonny', 'Ed', 'Colin', 'Phil']\n",
    "print('\\n', frame)"
   ]
  },
  {
   "cell_type": "markdown",
   "metadata": {},
   "source": [
    "Add the column `density` that contains the information about the density for each row."
   ]
  },
  {
   "cell_type": "code",
   "execution_count": 73,
   "metadata": {},
   "outputs": [
    {
     "data": {
      "text/html": [
       "<div>\n",
       "<style scoped>\n",
       "    .dataframe tbody tr th:only-of-type {\n",
       "        vertical-align: middle;\n",
       "    }\n",
       "\n",
       "    .dataframe tbody tr th {\n",
       "        vertical-align: top;\n",
       "    }\n",
       "\n",
       "    .dataframe thead th {\n",
       "        text-align: right;\n",
       "    }\n",
       "</style>\n",
       "<table border=\"1\" class=\"dataframe\">\n",
       "  <thead>\n",
       "    <tr style=\"text-align: right;\">\n",
       "      <th></th>\n",
       "      <th>state</th>\n",
       "      <th>year</th>\n",
       "      <th>pop</th>\n",
       "      <th>area</th>\n",
       "      <th>debt</th>\n",
       "      <th>mayor</th>\n",
       "      <th>density</th>\n",
       "    </tr>\n",
       "  </thead>\n",
       "  <tbody>\n",
       "    <tr>\n",
       "      <td>one</td>\n",
       "      <td>Ohio</td>\n",
       "      <td>2000</td>\n",
       "      <td>1.5</td>\n",
       "      <td>116</td>\n",
       "      <td>10</td>\n",
       "      <td>Thom</td>\n",
       "      <td>0.012931</td>\n",
       "    </tr>\n",
       "    <tr>\n",
       "      <td>two</td>\n",
       "      <td>Ohio</td>\n",
       "      <td>2001</td>\n",
       "      <td>1.7</td>\n",
       "      <td>116</td>\n",
       "      <td>11</td>\n",
       "      <td>Jonny</td>\n",
       "      <td>0.014655</td>\n",
       "    </tr>\n",
       "    <tr>\n",
       "      <td>three</td>\n",
       "      <td>Ohio</td>\n",
       "      <td>2002</td>\n",
       "      <td>3.6</td>\n",
       "      <td>116</td>\n",
       "      <td>12</td>\n",
       "      <td>Ed</td>\n",
       "      <td>0.031034</td>\n",
       "    </tr>\n",
       "    <tr>\n",
       "      <td>four</td>\n",
       "      <td>Nevada</td>\n",
       "      <td>2001</td>\n",
       "      <td>2.4</td>\n",
       "      <td>286</td>\n",
       "      <td>8</td>\n",
       "      <td>Colin</td>\n",
       "      <td>0.008392</td>\n",
       "    </tr>\n",
       "    <tr>\n",
       "      <td>five</td>\n",
       "      <td>Nevada</td>\n",
       "      <td>2002</td>\n",
       "      <td>2.9</td>\n",
       "      <td>286</td>\n",
       "      <td>9</td>\n",
       "      <td>Phil</td>\n",
       "      <td>0.010140</td>\n",
       "    </tr>\n",
       "  </tbody>\n",
       "</table>\n",
       "</div>"
      ],
      "text/plain": [
       "        state  year  pop  area  debt  mayor   density\n",
       "one      Ohio  2000  1.5   116    10   Thom  0.012931\n",
       "two      Ohio  2001  1.7   116    11  Jonny  0.014655\n",
       "three    Ohio  2002  3.6   116    12     Ed  0.031034\n",
       "four   Nevada  2001  2.4   286     8  Colin  0.008392\n",
       "five   Nevada  2002  2.9   286     9   Phil  0.010140"
      ]
     },
     "execution_count": 73,
     "metadata": {},
     "output_type": "execute_result"
    }
   ],
   "source": [
    "frame['density'] = frame['pop'] / frame['area']\n",
    "frame"
   ]
  },
  {
   "cell_type": "markdown",
   "metadata": {},
   "source": [
    "You can also select rows/columns with boolean condition, like what we did with Numpy."
   ]
  },
  {
   "cell_type": "code",
   "execution_count": 74,
   "metadata": {},
   "outputs": [
    {
     "data": {
      "text/html": [
       "<div>\n",
       "<style scoped>\n",
       "    .dataframe tbody tr th:only-of-type {\n",
       "        vertical-align: middle;\n",
       "    }\n",
       "\n",
       "    .dataframe tbody tr th {\n",
       "        vertical-align: top;\n",
       "    }\n",
       "\n",
       "    .dataframe thead th {\n",
       "        text-align: right;\n",
       "    }\n",
       "</style>\n",
       "<table border=\"1\" class=\"dataframe\">\n",
       "  <thead>\n",
       "    <tr style=\"text-align: right;\">\n",
       "      <th></th>\n",
       "      <th>state</th>\n",
       "      <th>year</th>\n",
       "      <th>pop</th>\n",
       "      <th>area</th>\n",
       "      <th>debt</th>\n",
       "      <th>mayor</th>\n",
       "      <th>density</th>\n",
       "    </tr>\n",
       "  </thead>\n",
       "  <tbody>\n",
       "    <tr>\n",
       "      <td>one</td>\n",
       "      <td>Ohio</td>\n",
       "      <td>2000</td>\n",
       "      <td>1.5</td>\n",
       "      <td>116</td>\n",
       "      <td>10</td>\n",
       "      <td>Thom</td>\n",
       "      <td>0.012931</td>\n",
       "    </tr>\n",
       "    <tr>\n",
       "      <td>four</td>\n",
       "      <td>Nevada</td>\n",
       "      <td>2001</td>\n",
       "      <td>2.4</td>\n",
       "      <td>286</td>\n",
       "      <td>8</td>\n",
       "      <td>Colin</td>\n",
       "      <td>0.008392</td>\n",
       "    </tr>\n",
       "    <tr>\n",
       "      <td>five</td>\n",
       "      <td>Nevada</td>\n",
       "      <td>2002</td>\n",
       "      <td>2.9</td>\n",
       "      <td>286</td>\n",
       "      <td>9</td>\n",
       "      <td>Phil</td>\n",
       "      <td>0.010140</td>\n",
       "    </tr>\n",
       "  </tbody>\n",
       "</table>\n",
       "</div>"
      ],
      "text/plain": [
       "       state  year  pop  area  debt  mayor   density\n",
       "one     Ohio  2000  1.5   116    10   Thom  0.012931\n",
       "four  Nevada  2001  2.4   286     8  Colin  0.008392\n",
       "five  Nevada  2002  2.9   286     9   Phil  0.010140"
      ]
     },
     "execution_count": 74,
     "metadata": {},
     "output_type": "execute_result"
    }
   ],
   "source": [
    "# select rows according to value of a column\n",
    "frame[frame.debt < 11]"
   ]
  },
  {
   "cell_type": "markdown",
   "metadata": {},
   "source": [
    "### Reading, parsing and cleaning data"
   ]
  },
  {
   "cell_type": "markdown",
   "metadata": {},
   "source": [
    "Pandas has many built-in methods to load data from different types of sources:\n",
    "* text files\n",
    "* databases\n",
    "* web APIs\n",
    "\n",
    "We will deal with text files because loading data from databases or Web APIs requires specific packages and are out of the scope of this course.\n",
    "Let's start with a simple example. Use the `cat` UNIX command to look at the content of file example.csv."
   ]
  },
  {
   "cell_type": "code",
   "execution_count": 75,
   "metadata": {},
   "outputs": [
    {
     "name": "stdout",
     "output_type": "stream",
     "text": [
      "a,b,c,d,message\r\n",
      "1,2,3,4,hello\r\n",
      "5,6,7,8,world\r\n",
      "9,10,11,12,foo"
     ]
    }
   ],
   "source": [
    "# look at example.csv\n",
    "!cat example.csv"
   ]
  },
  {
   "cell_type": "markdown",
   "metadata": {},
   "source": [
    "Now, read the documentation of the `read_csv()` function and use it to load the file in a DataFrame object. Use the column `message` as the index of the DataFrame.\n",
    "\n",
    "The function `read_table()` is a more general function to read data. You can specify the delimiter (in case it is not a comma) as well as many more options (parse the dates as Date objects, skip some lines...)."
   ]
  },
  {
   "cell_type": "code",
   "execution_count": 76,
   "metadata": {},
   "outputs": [
    {
     "data": {
      "text/html": [
       "<div>\n",
       "<style scoped>\n",
       "    .dataframe tbody tr th:only-of-type {\n",
       "        vertical-align: middle;\n",
       "    }\n",
       "\n",
       "    .dataframe tbody tr th {\n",
       "        vertical-align: top;\n",
       "    }\n",
       "\n",
       "    .dataframe thead th {\n",
       "        text-align: right;\n",
       "    }\n",
       "</style>\n",
       "<table border=\"1\" class=\"dataframe\">\n",
       "  <thead>\n",
       "    <tr style=\"text-align: right;\">\n",
       "      <th></th>\n",
       "      <th>a</th>\n",
       "      <th>b</th>\n",
       "      <th>c</th>\n",
       "      <th>d</th>\n",
       "    </tr>\n",
       "    <tr>\n",
       "      <th>message</th>\n",
       "      <th></th>\n",
       "      <th></th>\n",
       "      <th></th>\n",
       "      <th></th>\n",
       "    </tr>\n",
       "  </thead>\n",
       "  <tbody>\n",
       "    <tr>\n",
       "      <td>hello</td>\n",
       "      <td>1</td>\n",
       "      <td>2</td>\n",
       "      <td>3</td>\n",
       "      <td>4</td>\n",
       "    </tr>\n",
       "    <tr>\n",
       "      <td>world</td>\n",
       "      <td>5</td>\n",
       "      <td>6</td>\n",
       "      <td>7</td>\n",
       "      <td>8</td>\n",
       "    </tr>\n",
       "    <tr>\n",
       "      <td>foo</td>\n",
       "      <td>9</td>\n",
       "      <td>10</td>\n",
       "      <td>11</td>\n",
       "      <td>12</td>\n",
       "    </tr>\n",
       "  </tbody>\n",
       "</table>\n",
       "</div>"
      ],
      "text/plain": [
       "         a   b   c   d\n",
       "message               \n",
       "hello    1   2   3   4\n",
       "world    5   6   7   8\n",
       "foo      9  10  11  12"
      ]
     },
     "execution_count": 76,
     "metadata": {},
     "output_type": "execute_result"
    }
   ],
   "source": [
    "# load example.csv\n",
    "example = pd.read_csv(\"example.csv\", index_col=\"message\")\n",
    "example"
   ]
  },
  {
   "cell_type": "markdown",
   "metadata": {},
   "source": [
    "Sometimes, reading and loading data is not as easy as reading a csv file. Most of the data available are not structured and we have to rely on other tools to analyze them. Take a look at the content of the `bitly.txt` file."
   ]
  },
  {
   "cell_type": "code",
   "execution_count": 77,
   "metadata": {},
   "outputs": [
    {
     "name": "stdout",
     "output_type": "stream",
     "text": [
      "{ \"a\": \"Mozilla\\/5.0 (Windows NT 6.1; WOW64) AppleWebKit\\/535.11 (KHTML, like Gecko) Chrome\\/17.0.963.78 Safari\\/535.11\", \"c\": \"US\", \"nk\": 1, \"tz\": \"America\\/New_York\", \"gr\": \"MA\", \"g\": \"A6qOVH\", \"h\": \"wfLQtf\", \"l\": \"orofrog\", \"al\": \"en-US,en;q=0.8\", \"hh\": \"1.usa.gov\", \"r\": \"http:\\/\\/www.facebook.com\\/l\\/7AQEFzjSi\\/1.usa.gov\\/wfLQtf\", \"u\": \"http:\\/\\/www.ncbi.nlm.nih.gov\\/pubmed\\/22415991\", \"t\": 1331923247, \"hc\": 1331822918, \"cy\": \"Danvers\", \"ll\": [ 42.576698, -70.954903 ] }\r\n",
      "{ \"a\": \"GoogleMaps\\/RochesterNY\", \"c\": \"US\", \"nk\": 0, \"tz\": \"America\\/Denver\", \"gr\": \"UT\", \"g\": \"mwszkS\", \"h\": \"mwszkS\", \"l\": \"bitly\", \"hh\": \"j.mp\", \"r\": \"http:\\/\\/www.AwareMap.com\\/\", \"u\": \"http:\\/\\/www.monroecounty.gov\\/etc\\/911\\/rss.php\", \"t\": 1331923249, \"hc\": 1308262393, \"cy\": \"Provo\", \"ll\": [ 40.218102, -111.613297 ] }\r\n",
      "{ \"a\": \"Mozilla\\/4.0 (compatible; MSIE 8.0; Windows NT 6.1; WOW64; Trident\\/4.0; SLCC2; .NET CLR 2.0.50727; .NET CLR 3.5.30729; .NET CLR 3.0.30729; Media Center PC 6.0; .NET4.0C; .NET4.0E; InfoPath.3)\", \"c\": \"US\", \"nk\": 1, \"tz\": \"America\\/New_York\", \"gr\": \"DC\", \"g\": \"xxr3Qb\", \"h\": \"xxr3Qb\", \"l\": \"bitly\", \"al\": \"en-US\", \"hh\": \"1.usa.gov\", \"r\": \"http:\\/\\/t.co\\/03elZC4Q\", \"u\": \"http:\\/\\/boxer.senate.gov\\/en\\/press\\/releases\\/031612.cfm\", \"t\": 1331923250, \"hc\": 1331919941, \"cy\": \"Washington\", \"ll\": [ 38.900700, -77.043098 ] }\r\n"
     ]
    }
   ],
   "source": [
    "# look at bitly.txt with the `head` UNIX command\n",
    "!head -n 3 bitly.txt"
   ]
  },
  {
   "cell_type": "markdown",
   "metadata": {},
   "source": [
    "We can see that this file seems to be encoded in JSON format. Let's try to read it. Complete the following cell block."
   ]
  },
  {
   "cell_type": "code",
   "execution_count": 78,
   "metadata": {},
   "outputs": [
    {
     "name": "stdout",
     "output_type": "stream",
     "text": [
      "{'a': 'Mozilla/5.0 (Windows NT 6.1; WOW64) AppleWebKit/535.11 (KHTML, like Gecko) Chrome/17.0.963.78 Safari/535.11', 'c': 'US', 'nk': 1, 'tz': 'America/New_York', 'gr': 'MA', 'g': 'A6qOVH', 'h': 'wfLQtf', 'l': 'orofrog', 'al': 'en-US,en;q=0.8', 'hh': '1.usa.gov', 'r': 'http://www.facebook.com/l/7AQEFzjSi/1.usa.gov/wfLQtf', 'u': 'http://www.ncbi.nlm.nih.gov/pubmed/22415991', 't': 1331923247, 'hc': 1331822918, 'cy': 'Danvers', 'll': [42.576698, -70.954903]}\n"
     ]
    }
   ],
   "source": [
    "import json\n",
    "\n",
    "path = \"bitly.txt\"\n",
    "\n",
    "rec = [json.loads(line) for line in open(path)]\n",
    "\n",
    "# print the first record of the file\n",
    "print(rec[0])"
   ]
  },
  {
   "cell_type": "markdown",
   "metadata": {},
   "source": [
    "Each record is a dictionary object. This means we can create a Series for each record, hence this will give us a DataFrame for the entire data."
   ]
  },
  {
   "cell_type": "code",
   "execution_count": 79,
   "metadata": {},
   "outputs": [
    {
     "data": {
      "text/html": [
       "<div>\n",
       "<style scoped>\n",
       "    .dataframe tbody tr th:only-of-type {\n",
       "        vertical-align: middle;\n",
       "    }\n",
       "\n",
       "    .dataframe tbody tr th {\n",
       "        vertical-align: top;\n",
       "    }\n",
       "\n",
       "    .dataframe thead th {\n",
       "        text-align: right;\n",
       "    }\n",
       "</style>\n",
       "<table border=\"1\" class=\"dataframe\">\n",
       "  <thead>\n",
       "    <tr style=\"text-align: right;\">\n",
       "      <th></th>\n",
       "      <th>a</th>\n",
       "      <th>c</th>\n",
       "      <th>nk</th>\n",
       "      <th>tz</th>\n",
       "      <th>gr</th>\n",
       "      <th>g</th>\n",
       "      <th>h</th>\n",
       "      <th>l</th>\n",
       "      <th>al</th>\n",
       "      <th>hh</th>\n",
       "      <th>r</th>\n",
       "      <th>u</th>\n",
       "      <th>t</th>\n",
       "      <th>hc</th>\n",
       "      <th>cy</th>\n",
       "      <th>ll</th>\n",
       "      <th>_heartbeat_</th>\n",
       "      <th>kw</th>\n",
       "    </tr>\n",
       "  </thead>\n",
       "  <tbody>\n",
       "    <tr>\n",
       "      <td>0</td>\n",
       "      <td>Mozilla/5.0 (Windows NT 6.1; WOW64) AppleWebKi...</td>\n",
       "      <td>US</td>\n",
       "      <td>1.0</td>\n",
       "      <td>America/New_York</td>\n",
       "      <td>MA</td>\n",
       "      <td>A6qOVH</td>\n",
       "      <td>wfLQtf</td>\n",
       "      <td>orofrog</td>\n",
       "      <td>en-US,en;q=0.8</td>\n",
       "      <td>1.usa.gov</td>\n",
       "      <td>http://www.facebook.com/l/7AQEFzjSi/1.usa.gov/...</td>\n",
       "      <td>http://www.ncbi.nlm.nih.gov/pubmed/22415991</td>\n",
       "      <td>1.331923e+09</td>\n",
       "      <td>1.331823e+09</td>\n",
       "      <td>Danvers</td>\n",
       "      <td>[42.576698, -70.954903]</td>\n",
       "      <td>NaN</td>\n",
       "      <td>NaN</td>\n",
       "    </tr>\n",
       "    <tr>\n",
       "      <td>1</td>\n",
       "      <td>GoogleMaps/RochesterNY</td>\n",
       "      <td>US</td>\n",
       "      <td>0.0</td>\n",
       "      <td>America/Denver</td>\n",
       "      <td>UT</td>\n",
       "      <td>mwszkS</td>\n",
       "      <td>mwszkS</td>\n",
       "      <td>bitly</td>\n",
       "      <td>NaN</td>\n",
       "      <td>j.mp</td>\n",
       "      <td>http://www.AwareMap.com/</td>\n",
       "      <td>http://www.monroecounty.gov/etc/911/rss.php</td>\n",
       "      <td>1.331923e+09</td>\n",
       "      <td>1.308262e+09</td>\n",
       "      <td>Provo</td>\n",
       "      <td>[40.218102, -111.613297]</td>\n",
       "      <td>NaN</td>\n",
       "      <td>NaN</td>\n",
       "    </tr>\n",
       "    <tr>\n",
       "      <td>2</td>\n",
       "      <td>Mozilla/4.0 (compatible; MSIE 8.0; Windows NT ...</td>\n",
       "      <td>US</td>\n",
       "      <td>1.0</td>\n",
       "      <td>America/New_York</td>\n",
       "      <td>DC</td>\n",
       "      <td>xxr3Qb</td>\n",
       "      <td>xxr3Qb</td>\n",
       "      <td>bitly</td>\n",
       "      <td>en-US</td>\n",
       "      <td>1.usa.gov</td>\n",
       "      <td>http://t.co/03elZC4Q</td>\n",
       "      <td>http://boxer.senate.gov/en/press/releases/0316...</td>\n",
       "      <td>1.331923e+09</td>\n",
       "      <td>1.331920e+09</td>\n",
       "      <td>Washington</td>\n",
       "      <td>[38.9007, -77.043098]</td>\n",
       "      <td>NaN</td>\n",
       "      <td>NaN</td>\n",
       "    </tr>\n",
       "    <tr>\n",
       "      <td>3</td>\n",
       "      <td>Mozilla/5.0 (Macintosh; Intel Mac OS X 10_6_8)...</td>\n",
       "      <td>BR</td>\n",
       "      <td>0.0</td>\n",
       "      <td>America/Sao_Paulo</td>\n",
       "      <td>27</td>\n",
       "      <td>zCaLwp</td>\n",
       "      <td>zUtuOu</td>\n",
       "      <td>alelex88</td>\n",
       "      <td>pt-br</td>\n",
       "      <td>1.usa.gov</td>\n",
       "      <td>direct</td>\n",
       "      <td>http://apod.nasa.gov/apod/ap120312.html</td>\n",
       "      <td>1.331923e+09</td>\n",
       "      <td>1.331923e+09</td>\n",
       "      <td>Braz</td>\n",
       "      <td>[-23.549999, -46.616699]</td>\n",
       "      <td>NaN</td>\n",
       "      <td>NaN</td>\n",
       "    </tr>\n",
       "    <tr>\n",
       "      <td>4</td>\n",
       "      <td>Mozilla/5.0 (Windows NT 6.1; WOW64) AppleWebKi...</td>\n",
       "      <td>US</td>\n",
       "      <td>0.0</td>\n",
       "      <td>America/New_York</td>\n",
       "      <td>MA</td>\n",
       "      <td>9b6kNl</td>\n",
       "      <td>9b6kNl</td>\n",
       "      <td>bitly</td>\n",
       "      <td>en-US,en;q=0.8</td>\n",
       "      <td>bit.ly</td>\n",
       "      <td>http://www.shrewsbury-ma.gov/selco/</td>\n",
       "      <td>http://www.shrewsbury-ma.gov/egov/gallery/1341...</td>\n",
       "      <td>1.331923e+09</td>\n",
       "      <td>1.273672e+09</td>\n",
       "      <td>Shrewsbury</td>\n",
       "      <td>[42.286499, -71.714699]</td>\n",
       "      <td>NaN</td>\n",
       "      <td>NaN</td>\n",
       "    </tr>\n",
       "    <tr>\n",
       "      <td>5</td>\n",
       "      <td>Mozilla/5.0 (Windows NT 6.1; WOW64) AppleWebKi...</td>\n",
       "      <td>US</td>\n",
       "      <td>0.0</td>\n",
       "      <td>America/New_York</td>\n",
       "      <td>MA</td>\n",
       "      <td>axNK8c</td>\n",
       "      <td>axNK8c</td>\n",
       "      <td>bitly</td>\n",
       "      <td>en-US,en;q=0.8</td>\n",
       "      <td>bit.ly</td>\n",
       "      <td>http://www.shrewsbury-ma.gov/selco/</td>\n",
       "      <td>http://www.shrewsbury-ma.gov/egov/gallery/1341...</td>\n",
       "      <td>1.331923e+09</td>\n",
       "      <td>1.273673e+09</td>\n",
       "      <td>Shrewsbury</td>\n",
       "      <td>[42.286499, -71.714699]</td>\n",
       "      <td>NaN</td>\n",
       "      <td>NaN</td>\n",
       "    </tr>\n",
       "    <tr>\n",
       "      <td>6</td>\n",
       "      <td>Mozilla/5.0 (Windows NT 5.1) AppleWebKit/535.1...</td>\n",
       "      <td>PL</td>\n",
       "      <td>0.0</td>\n",
       "      <td>Europe/Warsaw</td>\n",
       "      <td>77</td>\n",
       "      <td>wcndER</td>\n",
       "      <td>zkpJBR</td>\n",
       "      <td>bnjacobs</td>\n",
       "      <td>pl-PL,pl;q=0.8,en-US;q=0.6,en;q=0.4</td>\n",
       "      <td>1.usa.gov</td>\n",
       "      <td>http://plus.url.google.com/url?sa=z&amp;n=13319232...</td>\n",
       "      <td>http://www.nasa.gov/mission_pages/nustar/main/...</td>\n",
       "      <td>1.331923e+09</td>\n",
       "      <td>1.331923e+09</td>\n",
       "      <td>Luban</td>\n",
       "      <td>[51.116699, 15.2833]</td>\n",
       "      <td>NaN</td>\n",
       "      <td>NaN</td>\n",
       "    </tr>\n",
       "    <tr>\n",
       "      <td>7</td>\n",
       "      <td>Mozilla/5.0 (Windows NT 6.1; rv:2.0.1) Gecko/2...</td>\n",
       "      <td>None</td>\n",
       "      <td>0.0</td>\n",
       "      <td></td>\n",
       "      <td>NaN</td>\n",
       "      <td>wcndER</td>\n",
       "      <td>zkpJBR</td>\n",
       "      <td>bnjacobs</td>\n",
       "      <td>bg,en-us;q=0.7,en;q=0.3</td>\n",
       "      <td>1.usa.gov</td>\n",
       "      <td>http://www.facebook.com/</td>\n",
       "      <td>http://www.nasa.gov/mission_pages/nustar/main/...</td>\n",
       "      <td>1.331923e+09</td>\n",
       "      <td>1.331923e+09</td>\n",
       "      <td>NaN</td>\n",
       "      <td>NaN</td>\n",
       "      <td>NaN</td>\n",
       "      <td>NaN</td>\n",
       "    </tr>\n",
       "    <tr>\n",
       "      <td>8</td>\n",
       "      <td>Opera/9.80 (X11; Linux zbov; U; en) Presto/2.1...</td>\n",
       "      <td>None</td>\n",
       "      <td>0.0</td>\n",
       "      <td></td>\n",
       "      <td>NaN</td>\n",
       "      <td>wcndER</td>\n",
       "      <td>zkpJBR</td>\n",
       "      <td>bnjacobs</td>\n",
       "      <td>en-US, en</td>\n",
       "      <td>1.usa.gov</td>\n",
       "      <td>http://www.facebook.com/l.php?u=http%3A%2F%2F1...</td>\n",
       "      <td>http://www.nasa.gov/mission_pages/nustar/main/...</td>\n",
       "      <td>1.331923e+09</td>\n",
       "      <td>1.331923e+09</td>\n",
       "      <td>NaN</td>\n",
       "      <td>NaN</td>\n",
       "      <td>NaN</td>\n",
       "      <td>NaN</td>\n",
       "    </tr>\n",
       "    <tr>\n",
       "      <td>9</td>\n",
       "      <td>Mozilla/5.0 (Windows NT 6.1; WOW64) AppleWebKi...</td>\n",
       "      <td>None</td>\n",
       "      <td>0.0</td>\n",
       "      <td></td>\n",
       "      <td>NaN</td>\n",
       "      <td>zCaLwp</td>\n",
       "      <td>zUtuOu</td>\n",
       "      <td>alelex88</td>\n",
       "      <td>pt-BR,pt;q=0.8,en-US;q=0.6,en;q=0.4</td>\n",
       "      <td>1.usa.gov</td>\n",
       "      <td>http://t.co/o1Pd0WeV</td>\n",
       "      <td>http://apod.nasa.gov/apod/ap120312.html</td>\n",
       "      <td>1.331923e+09</td>\n",
       "      <td>1.331923e+09</td>\n",
       "      <td>NaN</td>\n",
       "      <td>NaN</td>\n",
       "      <td>NaN</td>\n",
       "      <td>NaN</td>\n",
       "    </tr>\n",
       "    <tr>\n",
       "      <td>10</td>\n",
       "      <td>Mozilla/5.0 (Windows NT 6.1; WOW64; rv:10.0.2)...</td>\n",
       "      <td>US</td>\n",
       "      <td>1.0</td>\n",
       "      <td>America/Los_Angeles</td>\n",
       "      <td>WA</td>\n",
       "      <td>vNJS4H</td>\n",
       "      <td>u0uD9q</td>\n",
       "      <td>o_4us71ccioa</td>\n",
       "      <td>en-us,en;q=0.5</td>\n",
       "      <td>1.usa.gov</td>\n",
       "      <td>direct</td>\n",
       "      <td>https://www.nysdot.gov/rexdesign/design/commun...</td>\n",
       "      <td>1.331923e+09</td>\n",
       "      <td>1.319564e+09</td>\n",
       "      <td>Seattle</td>\n",
       "      <td>[47.5951, -122.332603]</td>\n",
       "      <td>NaN</td>\n",
       "      <td>NaN</td>\n",
       "    </tr>\n",
       "    <tr>\n",
       "      <td>11</td>\n",
       "      <td>Mozilla/5.0 (Macintosh; U; Intel Mac OS X 10.4...</td>\n",
       "      <td>US</td>\n",
       "      <td>0.0</td>\n",
       "      <td>America/New_York</td>\n",
       "      <td>DC</td>\n",
       "      <td>wG7OIH</td>\n",
       "      <td>A0nRz4</td>\n",
       "      <td>darrellissa</td>\n",
       "      <td>en-us,en;q=0.5</td>\n",
       "      <td>1.usa.gov</td>\n",
       "      <td>http://t.co/ND7SoPyo</td>\n",
       "      <td>http://oversight.house.gov/wp-content/uploads/...</td>\n",
       "      <td>1.331923e+09</td>\n",
       "      <td>1.331816e+09</td>\n",
       "      <td>Washington</td>\n",
       "      <td>[38.937599, -77.092796]</td>\n",
       "      <td>NaN</td>\n",
       "      <td>NaN</td>\n",
       "    </tr>\n",
       "    <tr>\n",
       "      <td>12</td>\n",
       "      <td>Mozilla/5.0 (Windows NT 6.1; WOW64; rv:10.0.2)...</td>\n",
       "      <td>US</td>\n",
       "      <td>1.0</td>\n",
       "      <td>America/New_York</td>\n",
       "      <td>VA</td>\n",
       "      <td>vNJS4H</td>\n",
       "      <td>u0uD9q</td>\n",
       "      <td>o_4us71ccioa</td>\n",
       "      <td>en-us,en;q=0.5</td>\n",
       "      <td>1.usa.gov</td>\n",
       "      <td>direct</td>\n",
       "      <td>https://www.nysdot.gov/rexdesign/design/commun...</td>\n",
       "      <td>1.331923e+09</td>\n",
       "      <td>1.319564e+09</td>\n",
       "      <td>Alexandria</td>\n",
       "      <td>[38.790901, -77.094704]</td>\n",
       "      <td>NaN</td>\n",
       "      <td>NaN</td>\n",
       "    </tr>\n",
       "    <tr>\n",
       "      <td>13</td>\n",
       "      <td>NaN</td>\n",
       "      <td>NaN</td>\n",
       "      <td>NaN</td>\n",
       "      <td>NaN</td>\n",
       "      <td>NaN</td>\n",
       "      <td>NaN</td>\n",
       "      <td>NaN</td>\n",
       "      <td>NaN</td>\n",
       "      <td>NaN</td>\n",
       "      <td>NaN</td>\n",
       "      <td>NaN</td>\n",
       "      <td>NaN</td>\n",
       "      <td>NaN</td>\n",
       "      <td>NaN</td>\n",
       "      <td>NaN</td>\n",
       "      <td>NaN</td>\n",
       "      <td>1.331923e+09</td>\n",
       "      <td>NaN</td>\n",
       "    </tr>\n",
       "    <tr>\n",
       "      <td>14</td>\n",
       "      <td>Mozilla/5.0 (Windows; U; Windows NT 6.1; en-US...</td>\n",
       "      <td>US</td>\n",
       "      <td>1.0</td>\n",
       "      <td>America/New_York</td>\n",
       "      <td>GA</td>\n",
       "      <td>2rOUYc</td>\n",
       "      <td>2rOUYc</td>\n",
       "      <td>bitly</td>\n",
       "      <td>en-us,en;q=0.5</td>\n",
       "      <td>1.usa.gov</td>\n",
       "      <td>direct</td>\n",
       "      <td>http://toxtown.nlm.nih.gov/index.php</td>\n",
       "      <td>1.331923e+09</td>\n",
       "      <td>1.255770e+09</td>\n",
       "      <td>Marietta</td>\n",
       "      <td>[33.953201, -84.5177]</td>\n",
       "      <td>NaN</td>\n",
       "      <td>NaN</td>\n",
       "    </tr>\n",
       "  </tbody>\n",
       "</table>\n",
       "</div>"
      ],
      "text/plain": [
       "                                                    a     c   nk  \\\n",
       "0   Mozilla/5.0 (Windows NT 6.1; WOW64) AppleWebKi...    US  1.0   \n",
       "1                              GoogleMaps/RochesterNY    US  0.0   \n",
       "2   Mozilla/4.0 (compatible; MSIE 8.0; Windows NT ...    US  1.0   \n",
       "3   Mozilla/5.0 (Macintosh; Intel Mac OS X 10_6_8)...    BR  0.0   \n",
       "4   Mozilla/5.0 (Windows NT 6.1; WOW64) AppleWebKi...    US  0.0   \n",
       "5   Mozilla/5.0 (Windows NT 6.1; WOW64) AppleWebKi...    US  0.0   \n",
       "6   Mozilla/5.0 (Windows NT 5.1) AppleWebKit/535.1...    PL  0.0   \n",
       "7   Mozilla/5.0 (Windows NT 6.1; rv:2.0.1) Gecko/2...  None  0.0   \n",
       "8   Opera/9.80 (X11; Linux zbov; U; en) Presto/2.1...  None  0.0   \n",
       "9   Mozilla/5.0 (Windows NT 6.1; WOW64) AppleWebKi...  None  0.0   \n",
       "10  Mozilla/5.0 (Windows NT 6.1; WOW64; rv:10.0.2)...    US  1.0   \n",
       "11  Mozilla/5.0 (Macintosh; U; Intel Mac OS X 10.4...    US  0.0   \n",
       "12  Mozilla/5.0 (Windows NT 6.1; WOW64; rv:10.0.2)...    US  1.0   \n",
       "13                                                NaN   NaN  NaN   \n",
       "14  Mozilla/5.0 (Windows; U; Windows NT 6.1; en-US...    US  1.0   \n",
       "\n",
       "                     tz   gr       g       h             l  \\\n",
       "0      America/New_York   MA  A6qOVH  wfLQtf       orofrog   \n",
       "1        America/Denver   UT  mwszkS  mwszkS         bitly   \n",
       "2      America/New_York   DC  xxr3Qb  xxr3Qb         bitly   \n",
       "3     America/Sao_Paulo   27  zCaLwp  zUtuOu      alelex88   \n",
       "4      America/New_York   MA  9b6kNl  9b6kNl         bitly   \n",
       "5      America/New_York   MA  axNK8c  axNK8c         bitly   \n",
       "6         Europe/Warsaw   77  wcndER  zkpJBR      bnjacobs   \n",
       "7                        NaN  wcndER  zkpJBR      bnjacobs   \n",
       "8                        NaN  wcndER  zkpJBR      bnjacobs   \n",
       "9                        NaN  zCaLwp  zUtuOu      alelex88   \n",
       "10  America/Los_Angeles   WA  vNJS4H  u0uD9q  o_4us71ccioa   \n",
       "11     America/New_York   DC  wG7OIH  A0nRz4   darrellissa   \n",
       "12     America/New_York   VA  vNJS4H  u0uD9q  o_4us71ccioa   \n",
       "13                  NaN  NaN     NaN     NaN           NaN   \n",
       "14     America/New_York   GA  2rOUYc  2rOUYc         bitly   \n",
       "\n",
       "                                     al         hh  \\\n",
       "0                        en-US,en;q=0.8  1.usa.gov   \n",
       "1                                   NaN       j.mp   \n",
       "2                                 en-US  1.usa.gov   \n",
       "3                                 pt-br  1.usa.gov   \n",
       "4                        en-US,en;q=0.8     bit.ly   \n",
       "5                        en-US,en;q=0.8     bit.ly   \n",
       "6   pl-PL,pl;q=0.8,en-US;q=0.6,en;q=0.4  1.usa.gov   \n",
       "7               bg,en-us;q=0.7,en;q=0.3  1.usa.gov   \n",
       "8                             en-US, en  1.usa.gov   \n",
       "9   pt-BR,pt;q=0.8,en-US;q=0.6,en;q=0.4  1.usa.gov   \n",
       "10                       en-us,en;q=0.5  1.usa.gov   \n",
       "11                       en-us,en;q=0.5  1.usa.gov   \n",
       "12                       en-us,en;q=0.5  1.usa.gov   \n",
       "13                                  NaN        NaN   \n",
       "14                       en-us,en;q=0.5  1.usa.gov   \n",
       "\n",
       "                                                    r  \\\n",
       "0   http://www.facebook.com/l/7AQEFzjSi/1.usa.gov/...   \n",
       "1                            http://www.AwareMap.com/   \n",
       "2                                http://t.co/03elZC4Q   \n",
       "3                                              direct   \n",
       "4                 http://www.shrewsbury-ma.gov/selco/   \n",
       "5                 http://www.shrewsbury-ma.gov/selco/   \n",
       "6   http://plus.url.google.com/url?sa=z&n=13319232...   \n",
       "7                            http://www.facebook.com/   \n",
       "8   http://www.facebook.com/l.php?u=http%3A%2F%2F1...   \n",
       "9                                http://t.co/o1Pd0WeV   \n",
       "10                                             direct   \n",
       "11                               http://t.co/ND7SoPyo   \n",
       "12                                             direct   \n",
       "13                                                NaN   \n",
       "14                                             direct   \n",
       "\n",
       "                                                    u             t  \\\n",
       "0         http://www.ncbi.nlm.nih.gov/pubmed/22415991  1.331923e+09   \n",
       "1         http://www.monroecounty.gov/etc/911/rss.php  1.331923e+09   \n",
       "2   http://boxer.senate.gov/en/press/releases/0316...  1.331923e+09   \n",
       "3             http://apod.nasa.gov/apod/ap120312.html  1.331923e+09   \n",
       "4   http://www.shrewsbury-ma.gov/egov/gallery/1341...  1.331923e+09   \n",
       "5   http://www.shrewsbury-ma.gov/egov/gallery/1341...  1.331923e+09   \n",
       "6   http://www.nasa.gov/mission_pages/nustar/main/...  1.331923e+09   \n",
       "7   http://www.nasa.gov/mission_pages/nustar/main/...  1.331923e+09   \n",
       "8   http://www.nasa.gov/mission_pages/nustar/main/...  1.331923e+09   \n",
       "9             http://apod.nasa.gov/apod/ap120312.html  1.331923e+09   \n",
       "10  https://www.nysdot.gov/rexdesign/design/commun...  1.331923e+09   \n",
       "11  http://oversight.house.gov/wp-content/uploads/...  1.331923e+09   \n",
       "12  https://www.nysdot.gov/rexdesign/design/commun...  1.331923e+09   \n",
       "13                                                NaN           NaN   \n",
       "14               http://toxtown.nlm.nih.gov/index.php  1.331923e+09   \n",
       "\n",
       "              hc          cy                        ll   _heartbeat_   kw  \n",
       "0   1.331823e+09     Danvers   [42.576698, -70.954903]           NaN  NaN  \n",
       "1   1.308262e+09       Provo  [40.218102, -111.613297]           NaN  NaN  \n",
       "2   1.331920e+09  Washington     [38.9007, -77.043098]           NaN  NaN  \n",
       "3   1.331923e+09        Braz  [-23.549999, -46.616699]           NaN  NaN  \n",
       "4   1.273672e+09  Shrewsbury   [42.286499, -71.714699]           NaN  NaN  \n",
       "5   1.273673e+09  Shrewsbury   [42.286499, -71.714699]           NaN  NaN  \n",
       "6   1.331923e+09       Luban      [51.116699, 15.2833]           NaN  NaN  \n",
       "7   1.331923e+09         NaN                       NaN           NaN  NaN  \n",
       "8   1.331923e+09         NaN                       NaN           NaN  NaN  \n",
       "9   1.331923e+09         NaN                       NaN           NaN  NaN  \n",
       "10  1.319564e+09     Seattle    [47.5951, -122.332603]           NaN  NaN  \n",
       "11  1.331816e+09  Washington   [38.937599, -77.092796]           NaN  NaN  \n",
       "12  1.319564e+09  Alexandria   [38.790901, -77.094704]           NaN  NaN  \n",
       "13           NaN         NaN                       NaN  1.331923e+09  NaN  \n",
       "14  1.255770e+09    Marietta     [33.953201, -84.5177]           NaN  NaN  "
      ]
     },
     "execution_count": 79,
     "metadata": {},
     "output_type": "execute_result"
    }
   ],
   "source": [
    "frame = DataFrame(rec)\n",
    "frame[:15] # only prints the 15 first rows of object frame"
   ]
  },
  {
   "cell_type": "markdown",
   "metadata": {},
   "source": [
    "As you can see, there is a column named `_heartbeat_` that was not present when we took a look at the content of the file. Furthermore, some records are almost empty, except for this field. We need to remove them for our analysis."
   ]
  },
  {
   "cell_type": "code",
   "execution_count": 80,
   "metadata": {},
   "outputs": [
    {
     "name": "stdout",
     "output_type": "stream",
     "text": [
      "Total records: 3560\n",
      "Clean records: 3440\n"
     ]
    },
    {
     "data": {
      "text/html": [
       "<div>\n",
       "<style scoped>\n",
       "    .dataframe tbody tr th:only-of-type {\n",
       "        vertical-align: middle;\n",
       "    }\n",
       "\n",
       "    .dataframe tbody tr th {\n",
       "        vertical-align: top;\n",
       "    }\n",
       "\n",
       "    .dataframe thead th {\n",
       "        text-align: right;\n",
       "    }\n",
       "</style>\n",
       "<table border=\"1\" class=\"dataframe\">\n",
       "  <thead>\n",
       "    <tr style=\"text-align: right;\">\n",
       "      <th></th>\n",
       "      <th>a</th>\n",
       "      <th>c</th>\n",
       "      <th>nk</th>\n",
       "      <th>tz</th>\n",
       "      <th>gr</th>\n",
       "      <th>g</th>\n",
       "      <th>h</th>\n",
       "      <th>l</th>\n",
       "      <th>al</th>\n",
       "      <th>hh</th>\n",
       "      <th>r</th>\n",
       "      <th>u</th>\n",
       "      <th>t</th>\n",
       "      <th>hc</th>\n",
       "      <th>cy</th>\n",
       "      <th>ll</th>\n",
       "      <th>kw</th>\n",
       "    </tr>\n",
       "  </thead>\n",
       "  <tbody>\n",
       "    <tr>\n",
       "      <td>0</td>\n",
       "      <td>Mozilla/5.0 (Windows NT 6.1; WOW64) AppleWebKi...</td>\n",
       "      <td>US</td>\n",
       "      <td>1</td>\n",
       "      <td>America/New_York</td>\n",
       "      <td>MA</td>\n",
       "      <td>A6qOVH</td>\n",
       "      <td>wfLQtf</td>\n",
       "      <td>orofrog</td>\n",
       "      <td>en-US,en;q=0.8</td>\n",
       "      <td>1.usa.gov</td>\n",
       "      <td>http://www.facebook.com/l/7AQEFzjSi/1.usa.gov/...</td>\n",
       "      <td>http://www.ncbi.nlm.nih.gov/pubmed/22415991</td>\n",
       "      <td>1331923247</td>\n",
       "      <td>1331822918</td>\n",
       "      <td>Danvers</td>\n",
       "      <td>[42.576698, -70.954903]</td>\n",
       "      <td>NaN</td>\n",
       "    </tr>\n",
       "    <tr>\n",
       "      <td>1</td>\n",
       "      <td>GoogleMaps/RochesterNY</td>\n",
       "      <td>US</td>\n",
       "      <td>0</td>\n",
       "      <td>America/Denver</td>\n",
       "      <td>UT</td>\n",
       "      <td>mwszkS</td>\n",
       "      <td>mwszkS</td>\n",
       "      <td>bitly</td>\n",
       "      <td>NaN</td>\n",
       "      <td>j.mp</td>\n",
       "      <td>http://www.AwareMap.com/</td>\n",
       "      <td>http://www.monroecounty.gov/etc/911/rss.php</td>\n",
       "      <td>1331923249</td>\n",
       "      <td>1308262393</td>\n",
       "      <td>Provo</td>\n",
       "      <td>[40.218102, -111.613297]</td>\n",
       "      <td>NaN</td>\n",
       "    </tr>\n",
       "    <tr>\n",
       "      <td>2</td>\n",
       "      <td>Mozilla/4.0 (compatible; MSIE 8.0; Windows NT ...</td>\n",
       "      <td>US</td>\n",
       "      <td>1</td>\n",
       "      <td>America/New_York</td>\n",
       "      <td>DC</td>\n",
       "      <td>xxr3Qb</td>\n",
       "      <td>xxr3Qb</td>\n",
       "      <td>bitly</td>\n",
       "      <td>en-US</td>\n",
       "      <td>1.usa.gov</td>\n",
       "      <td>http://t.co/03elZC4Q</td>\n",
       "      <td>http://boxer.senate.gov/en/press/releases/0316...</td>\n",
       "      <td>1331923250</td>\n",
       "      <td>1331919941</td>\n",
       "      <td>Washington</td>\n",
       "      <td>[38.9007, -77.043098]</td>\n",
       "      <td>NaN</td>\n",
       "    </tr>\n",
       "    <tr>\n",
       "      <td>3</td>\n",
       "      <td>Mozilla/5.0 (Macintosh; Intel Mac OS X 10_6_8)...</td>\n",
       "      <td>BR</td>\n",
       "      <td>0</td>\n",
       "      <td>America/Sao_Paulo</td>\n",
       "      <td>27</td>\n",
       "      <td>zCaLwp</td>\n",
       "      <td>zUtuOu</td>\n",
       "      <td>alelex88</td>\n",
       "      <td>pt-br</td>\n",
       "      <td>1.usa.gov</td>\n",
       "      <td>direct</td>\n",
       "      <td>http://apod.nasa.gov/apod/ap120312.html</td>\n",
       "      <td>1331923249</td>\n",
       "      <td>1331923068</td>\n",
       "      <td>Braz</td>\n",
       "      <td>[-23.549999, -46.616699]</td>\n",
       "      <td>NaN</td>\n",
       "    </tr>\n",
       "    <tr>\n",
       "      <td>4</td>\n",
       "      <td>Mozilla/5.0 (Windows NT 6.1; WOW64) AppleWebKi...</td>\n",
       "      <td>US</td>\n",
       "      <td>0</td>\n",
       "      <td>America/New_York</td>\n",
       "      <td>MA</td>\n",
       "      <td>9b6kNl</td>\n",
       "      <td>9b6kNl</td>\n",
       "      <td>bitly</td>\n",
       "      <td>en-US,en;q=0.8</td>\n",
       "      <td>bit.ly</td>\n",
       "      <td>http://www.shrewsbury-ma.gov/selco/</td>\n",
       "      <td>http://www.shrewsbury-ma.gov/egov/gallery/1341...</td>\n",
       "      <td>1331923251</td>\n",
       "      <td>1273672411</td>\n",
       "      <td>Shrewsbury</td>\n",
       "      <td>[42.286499, -71.714699]</td>\n",
       "      <td>NaN</td>\n",
       "    </tr>\n",
       "  </tbody>\n",
       "</table>\n",
       "</div>"
      ],
      "text/plain": [
       "                                                   a   c  nk  \\\n",
       "0  Mozilla/5.0 (Windows NT 6.1; WOW64) AppleWebKi...  US   1   \n",
       "1                             GoogleMaps/RochesterNY  US   0   \n",
       "2  Mozilla/4.0 (compatible; MSIE 8.0; Windows NT ...  US   1   \n",
       "3  Mozilla/5.0 (Macintosh; Intel Mac OS X 10_6_8)...  BR   0   \n",
       "4  Mozilla/5.0 (Windows NT 6.1; WOW64) AppleWebKi...  US   0   \n",
       "\n",
       "                  tz  gr       g       h         l              al         hh  \\\n",
       "0   America/New_York  MA  A6qOVH  wfLQtf   orofrog  en-US,en;q=0.8  1.usa.gov   \n",
       "1     America/Denver  UT  mwszkS  mwszkS     bitly             NaN       j.mp   \n",
       "2   America/New_York  DC  xxr3Qb  xxr3Qb     bitly           en-US  1.usa.gov   \n",
       "3  America/Sao_Paulo  27  zCaLwp  zUtuOu  alelex88           pt-br  1.usa.gov   \n",
       "4   America/New_York  MA  9b6kNl  9b6kNl     bitly  en-US,en;q=0.8     bit.ly   \n",
       "\n",
       "                                                   r  \\\n",
       "0  http://www.facebook.com/l/7AQEFzjSi/1.usa.gov/...   \n",
       "1                           http://www.AwareMap.com/   \n",
       "2                               http://t.co/03elZC4Q   \n",
       "3                                             direct   \n",
       "4                http://www.shrewsbury-ma.gov/selco/   \n",
       "\n",
       "                                                   u           t          hc  \\\n",
       "0        http://www.ncbi.nlm.nih.gov/pubmed/22415991  1331923247  1331822918   \n",
       "1        http://www.monroecounty.gov/etc/911/rss.php  1331923249  1308262393   \n",
       "2  http://boxer.senate.gov/en/press/releases/0316...  1331923250  1331919941   \n",
       "3            http://apod.nasa.gov/apod/ap120312.html  1331923249  1331923068   \n",
       "4  http://www.shrewsbury-ma.gov/egov/gallery/1341...  1331923251  1273672411   \n",
       "\n",
       "           cy                        ll   kw  \n",
       "0     Danvers   [42.576698, -70.954903]  NaN  \n",
       "1       Provo  [40.218102, -111.613297]  NaN  \n",
       "2  Washington     [38.9007, -77.043098]  NaN  \n",
       "3        Braz  [-23.549999, -46.616699]  NaN  \n",
       "4  Shrewsbury   [42.286499, -71.714699]  NaN  "
      ]
     },
     "execution_count": 80,
     "metadata": {},
     "output_type": "execute_result"
    }
   ],
   "source": [
    "# only keep records that have an entry for the field 'a'\n",
    "clean_records = [x for x in rec if 'a' in x]\n",
    "\n",
    "print(\"Total records:\", len(rec)) # good records + hearbeats\n",
    "print(\"Clean records:\", len(clean_records)) # no heartbeats\n",
    "\n",
    "# make a DataFrame composed of only good records\n",
    "bitly = DataFrame(clean_records)\n",
    "\n",
    "bitly[:5]                    # print the first 5 records"
   ]
  },
  {
   "cell_type": "markdown",
   "metadata": {},
   "source": [
    "### Operations on DataFrame"
   ]
  },
  {
   "cell_type": "markdown",
   "metadata": {},
   "source": [
    "Most of the Numpy functions can be used on DataFrame."
   ]
  },
  {
   "cell_type": "code",
   "execution_count": 81,
   "metadata": {},
   "outputs": [
    {
     "data": {
      "text/html": [
       "<div>\n",
       "<style scoped>\n",
       "    .dataframe tbody tr th:only-of-type {\n",
       "        vertical-align: middle;\n",
       "    }\n",
       "\n",
       "    .dataframe tbody tr th {\n",
       "        vertical-align: top;\n",
       "    }\n",
       "\n",
       "    .dataframe thead th {\n",
       "        text-align: right;\n",
       "    }\n",
       "</style>\n",
       "<table border=\"1\" class=\"dataframe\">\n",
       "  <thead>\n",
       "    <tr style=\"text-align: right;\">\n",
       "      <th></th>\n",
       "      <th>b</th>\n",
       "      <th>d</th>\n",
       "      <th>e</th>\n",
       "    </tr>\n",
       "  </thead>\n",
       "  <tbody>\n",
       "    <tr>\n",
       "      <td>Paris</td>\n",
       "      <td>0.138663</td>\n",
       "      <td>0.064724</td>\n",
       "      <td>-0.320015</td>\n",
       "    </tr>\n",
       "    <tr>\n",
       "      <td>Lyon</td>\n",
       "      <td>-0.584551</td>\n",
       "      <td>-1.079000</td>\n",
       "      <td>1.220657</td>\n",
       "    </tr>\n",
       "    <tr>\n",
       "      <td>Lille</td>\n",
       "      <td>0.957459</td>\n",
       "      <td>-1.197645</td>\n",
       "      <td>-0.942190</td>\n",
       "    </tr>\n",
       "    <tr>\n",
       "      <td>Pau</td>\n",
       "      <td>-0.045210</td>\n",
       "      <td>-0.759345</td>\n",
       "      <td>0.199495</td>\n",
       "    </tr>\n",
       "  </tbody>\n",
       "</table>\n",
       "</div>"
      ],
      "text/plain": [
       "              b         d         e\n",
       "Paris  0.138663  0.064724 -0.320015\n",
       "Lyon  -0.584551 -1.079000  1.220657\n",
       "Lille  0.957459 -1.197645 -0.942190\n",
       "Pau   -0.045210 -0.759345  0.199495"
      ]
     },
     "execution_count": 81,
     "metadata": {},
     "output_type": "execute_result"
    }
   ],
   "source": [
    "cities = DataFrame(np.random.randn(4, 3), columns=list('bde'),\n",
    "                  index=['Paris', 'Lyon', 'Lille', 'Pau'])\n",
    "cities"
   ]
  },
  {
   "cell_type": "code",
   "execution_count": 82,
   "metadata": {},
   "outputs": [
    {
     "data": {
      "text/html": [
       "<div>\n",
       "<style scoped>\n",
       "    .dataframe tbody tr th:only-of-type {\n",
       "        vertical-align: middle;\n",
       "    }\n",
       "\n",
       "    .dataframe tbody tr th {\n",
       "        vertical-align: top;\n",
       "    }\n",
       "\n",
       "    .dataframe thead th {\n",
       "        text-align: right;\n",
       "    }\n",
       "</style>\n",
       "<table border=\"1\" class=\"dataframe\">\n",
       "  <thead>\n",
       "    <tr style=\"text-align: right;\">\n",
       "      <th></th>\n",
       "      <th>b</th>\n",
       "      <th>d</th>\n",
       "      <th>e</th>\n",
       "    </tr>\n",
       "  </thead>\n",
       "  <tbody>\n",
       "    <tr>\n",
       "      <td>Paris</td>\n",
       "      <td>1.148737</td>\n",
       "      <td>1.066865</td>\n",
       "      <td>0.726138</td>\n",
       "    </tr>\n",
       "    <tr>\n",
       "      <td>Lyon</td>\n",
       "      <td>0.557356</td>\n",
       "      <td>0.339935</td>\n",
       "      <td>3.389413</td>\n",
       "    </tr>\n",
       "    <tr>\n",
       "      <td>Lille</td>\n",
       "      <td>2.605068</td>\n",
       "      <td>0.301904</td>\n",
       "      <td>0.389773</td>\n",
       "    </tr>\n",
       "    <tr>\n",
       "      <td>Pau</td>\n",
       "      <td>0.955797</td>\n",
       "      <td>0.467973</td>\n",
       "      <td>1.220786</td>\n",
       "    </tr>\n",
       "  </tbody>\n",
       "</table>\n",
       "</div>"
      ],
      "text/plain": [
       "              b         d         e\n",
       "Paris  1.148737  1.066865  0.726138\n",
       "Lyon   0.557356  0.339935  3.389413\n",
       "Lille  2.605068  0.301904  0.389773\n",
       "Pau    0.955797  0.467973  1.220786"
      ]
     },
     "execution_count": 82,
     "metadata": {},
     "output_type": "execute_result"
    }
   ],
   "source": [
    "np.exp(cities)"
   ]
  },
  {
   "cell_type": "markdown",
   "metadata": {},
   "source": [
    "You can use a custom function on each value of the DataFrame with the `.apply()` method."
   ]
  },
  {
   "cell_type": "code",
   "execution_count": 83,
   "metadata": {},
   "outputs": [
    {
     "data": {
      "text/html": [
       "<div>\n",
       "<style scoped>\n",
       "    .dataframe tbody tr th:only-of-type {\n",
       "        vertical-align: middle;\n",
       "    }\n",
       "\n",
       "    .dataframe tbody tr th {\n",
       "        vertical-align: top;\n",
       "    }\n",
       "\n",
       "    .dataframe thead th {\n",
       "        text-align: right;\n",
       "    }\n",
       "</style>\n",
       "<table border=\"1\" class=\"dataframe\">\n",
       "  <thead>\n",
       "    <tr style=\"text-align: right;\">\n",
       "      <th></th>\n",
       "      <th>b</th>\n",
       "      <th>d</th>\n",
       "      <th>e</th>\n",
       "    </tr>\n",
       "  </thead>\n",
       "  <tbody>\n",
       "    <tr>\n",
       "      <td>Paris</td>\n",
       "      <td>2.115989</td>\n",
       "      <td>1.894173</td>\n",
       "      <td>0.739954</td>\n",
       "    </tr>\n",
       "    <tr>\n",
       "      <td>Lyon</td>\n",
       "      <td>-0.053652</td>\n",
       "      <td>-1.537001</td>\n",
       "      <td>5.361971</td>\n",
       "    </tr>\n",
       "    <tr>\n",
       "      <td>Lille</td>\n",
       "      <td>4.572377</td>\n",
       "      <td>-1.892934</td>\n",
       "      <td>-1.126570</td>\n",
       "    </tr>\n",
       "    <tr>\n",
       "      <td>Pau</td>\n",
       "      <td>1.564371</td>\n",
       "      <td>-0.578036</td>\n",
       "      <td>2.298486</td>\n",
       "    </tr>\n",
       "  </tbody>\n",
       "</table>\n",
       "</div>"
      ],
      "text/plain": [
       "              b         d         e\n",
       "Paris  2.115989  1.894173  0.739954\n",
       "Lyon  -0.053652 -1.537001  5.361971\n",
       "Lille  4.572377 -1.892934 -1.126570\n",
       "Pau    1.564371 -0.578036  2.298486"
      ]
     },
     "execution_count": 83,
     "metadata": {},
     "output_type": "execute_result"
    }
   ],
   "source": [
    "def f(x):\n",
    "    return 3*x + 1.7\n",
    "\n",
    "cities.apply(f)"
   ]
  },
  {
   "cell_type": "markdown",
   "metadata": {},
   "source": [
    "There are two ways to sort a DataFrame.\n",
    "* `.sort_index()` : sort the rows according to their respective labels\n",
    "* `.sort_values(by=...)` : sort the rows according to the value in column specified with argument  `by`. You can pass a list of columns to the by argument if you need to sort with more than one column.\n",
    "\n",
    "NaN values are placed at the bottom of sorted DataFrame/Series."
   ]
  },
  {
   "cell_type": "code",
   "execution_count": 84,
   "metadata": {},
   "outputs": [
    {
     "data": {
      "text/html": [
       "<div>\n",
       "<style scoped>\n",
       "    .dataframe tbody tr th:only-of-type {\n",
       "        vertical-align: middle;\n",
       "    }\n",
       "\n",
       "    .dataframe tbody tr th {\n",
       "        vertical-align: top;\n",
       "    }\n",
       "\n",
       "    .dataframe thead th {\n",
       "        text-align: right;\n",
       "    }\n",
       "</style>\n",
       "<table border=\"1\" class=\"dataframe\">\n",
       "  <thead>\n",
       "    <tr style=\"text-align: right;\">\n",
       "      <th></th>\n",
       "      <th>b</th>\n",
       "      <th>a</th>\n",
       "    </tr>\n",
       "  </thead>\n",
       "  <tbody>\n",
       "    <tr>\n",
       "      <td>Lisbonne</td>\n",
       "      <td>-3</td>\n",
       "      <td>0</td>\n",
       "    </tr>\n",
       "    <tr>\n",
       "      <td>New-York</td>\n",
       "      <td>7</td>\n",
       "      <td>1</td>\n",
       "    </tr>\n",
       "    <tr>\n",
       "      <td>Tokyo</td>\n",
       "      <td>2</td>\n",
       "      <td>1</td>\n",
       "    </tr>\n",
       "    <tr>\n",
       "      <td>Venise</td>\n",
       "      <td>4</td>\n",
       "      <td>0</td>\n",
       "    </tr>\n",
       "  </tbody>\n",
       "</table>\n",
       "</div>"
      ],
      "text/plain": [
       "          b  a\n",
       "Lisbonne -3  0\n",
       "New-York  7  1\n",
       "Tokyo     2  1\n",
       "Venise    4  0"
      ]
     },
     "execution_count": 84,
     "metadata": {},
     "output_type": "execute_result"
    }
   ],
   "source": [
    "d = DataFrame({'b': [4, 7, -3, 2],\n",
    "               'a': [0, 1, 0, 1],\n",
    "              }, index=[\"Venise\", \"New-York\", \"Lisbonne\", \"Tokyo\"])\n",
    "# sort d according to its indexes value\n",
    "d.sort_index()"
   ]
  },
  {
   "cell_type": "code",
   "execution_count": 85,
   "metadata": {},
   "outputs": [
    {
     "data": {
      "text/html": [
       "<div>\n",
       "<style scoped>\n",
       "    .dataframe tbody tr th:only-of-type {\n",
       "        vertical-align: middle;\n",
       "    }\n",
       "\n",
       "    .dataframe tbody tr th {\n",
       "        vertical-align: top;\n",
       "    }\n",
       "\n",
       "    .dataframe thead th {\n",
       "        text-align: right;\n",
       "    }\n",
       "</style>\n",
       "<table border=\"1\" class=\"dataframe\">\n",
       "  <thead>\n",
       "    <tr style=\"text-align: right;\">\n",
       "      <th></th>\n",
       "      <th>b</th>\n",
       "      <th>a</th>\n",
       "    </tr>\n",
       "  </thead>\n",
       "  <tbody>\n",
       "    <tr>\n",
       "      <td>Lisbonne</td>\n",
       "      <td>-3</td>\n",
       "      <td>0</td>\n",
       "    </tr>\n",
       "    <tr>\n",
       "      <td>Venise</td>\n",
       "      <td>4</td>\n",
       "      <td>0</td>\n",
       "    </tr>\n",
       "    <tr>\n",
       "      <td>Tokyo</td>\n",
       "      <td>2</td>\n",
       "      <td>1</td>\n",
       "    </tr>\n",
       "    <tr>\n",
       "      <td>New-York</td>\n",
       "      <td>7</td>\n",
       "      <td>1</td>\n",
       "    </tr>\n",
       "  </tbody>\n",
       "</table>\n",
       "</div>"
      ],
      "text/plain": [
       "          b  a\n",
       "Lisbonne -3  0\n",
       "Venise    4  0\n",
       "Tokyo     2  1\n",
       "New-York  7  1"
      ]
     },
     "execution_count": 85,
     "metadata": {},
     "output_type": "execute_result"
    }
   ],
   "source": [
    "# sort d according to the value of a, then the value of b\n",
    "d.sort_values(by=[\"a\", \"b\"])"
   ]
  },
  {
   "cell_type": "markdown",
   "metadata": {},
   "source": [
    "### Analyzing DataFrame"
   ]
  },
  {
   "cell_type": "markdown",
   "metadata": {},
   "source": [
    "The `bitly.txt` file contains information about shortened URL made by the website bit.ly. Every record has the web browser that clicked on the bit.ly link, the location of the person who clicked, the URL that was shortened...\n",
    "\n",
    "We already loaded this file into a DataFrame. Let's see if we can get some valuable informations about the location of the users."
   ]
  },
  {
   "cell_type": "code",
   "execution_count": 86,
   "metadata": {},
   "outputs": [
    {
     "data": {
      "text/plain": [
       "0     America/New_York\n",
       "1       America/Denver\n",
       "2     America/New_York\n",
       "3    America/Sao_Paulo\n",
       "4     America/New_York\n",
       "5     America/New_York\n",
       "6        Europe/Warsaw\n",
       "7                     \n",
       "8                     \n",
       "9                     \n",
       "Name: tz, dtype: object"
      ]
     },
     "execution_count": 86,
     "metadata": {},
     "output_type": "execute_result"
    }
   ],
   "source": [
    "# the interesting field is named 'tz'. Extract the series\n",
    "# related to this field into a variable `timezones` and\n",
    "# print the first 10 rows.\n",
    "timezones = bitly.tz\n",
    "timezones[:10]"
   ]
  },
  {
   "cell_type": "markdown",
   "metadata": {},
   "source": [
    "As you can see, some rows have an empty value for this field. Pandas can deal with missing or incorrect data, but we need to tell it explicitly."
   ]
  },
  {
   "cell_type": "code",
   "execution_count": 87,
   "metadata": {},
   "outputs": [
    {
     "name": "stderr",
     "output_type": "stream",
     "text": [
      "/usr/local/lib/python3.7/dist-packages/ipykernel_launcher.py:4: SettingWithCopyWarning: \n",
      "A value is trying to be set on a copy of a slice from a DataFrame\n",
      "\n",
      "See the caveats in the documentation: http://pandas.pydata.org/pandas-docs/stable/user_guide/indexing.html#returning-a-view-versus-a-copy\n",
      "  after removing the cwd from sys.path.\n"
     ]
    },
    {
     "data": {
      "text/plain": [
       "0     America/New_York\n",
       "1       America/Denver\n",
       "2     America/New_York\n",
       "3    America/Sao_Paulo\n",
       "4     America/New_York\n",
       "5     America/New_York\n",
       "6        Europe/Warsaw\n",
       "7              Unknown\n",
       "8              Unknown\n",
       "9              Unknown\n",
       "Name: tz, dtype: object"
      ]
     },
     "execution_count": 87,
     "metadata": {},
     "output_type": "execute_result"
    }
   ],
   "source": [
    "# use a boolean condition to select all rows of timezones\n",
    "# that are '' and set them to 'Unknown'. Print again the \n",
    "# first 10 rows to see the difference\n",
    "timezones[timezones == ''] = \"Unknown\"\n",
    "timezones[:10]"
   ]
  },
  {
   "cell_type": "code",
   "execution_count": 88,
   "metadata": {},
   "outputs": [
    {
     "data": {
      "text/plain": [
       "America/New_York       1251\n",
       "Unknown                 521\n",
       "America/Chicago         400\n",
       "America/Los_Angeles     382\n",
       "America/Denver          191\n",
       "Name: tz, dtype: int64"
      ]
     },
     "execution_count": 88,
     "metadata": {},
     "output_type": "execute_result"
    }
   ],
   "source": [
    "# then use the .value_counts() method on timezones. This will\n",
    "# count the number of occurrence for each different value\n",
    "# and also sort this list. What are the 5 most frequent\n",
    "# locations ?\n",
    "tz_counts = timezones.value_counts()\n",
    "tz_counts[:5]\n",
    "# most frequent timezones are :\n",
    "#   - America/New_York\n",
    "#   - Unknown\n",
    "#   - America/Chicago\n",
    "#   - America/Los_Angeles\n",
    "#   - America/Denver"
   ]
  },
  {
   "cell_type": "code",
   "execution_count": 89,
   "metadata": {},
   "outputs": [
    {
     "data": {
      "text/plain": [
       "<matplotlib.axes._subplots.AxesSubplot at 0x72ca1bc1b750>"
      ]
     },
     "execution_count": 89,
     "metadata": {},
     "output_type": "execute_result"
    },
    {
     "data": {
      "image/png": "[encoded data removed]",
      "text/plain": [
       "<Figure size 864x432 with 1 Axes>"
      ]
     },
     "metadata": {
      "needs_background": "light"
     },
     "output_type": "display_data"
    }
   ],
   "source": [
    "# a chart would be nice to see these results. Read the\n",
    "# documentation of the method .plot() of DataFrame and print\n",
    "# the top 10 locations in a horizontal bar graph.\n",
    "\n",
    "#tz_counts.plot?\n",
    "tz_counts[:10].plot(kind='barh', figsize=(12,6), fontsize=8)"
   ]
  },
  {
   "cell_type": "markdown",
   "metadata": {},
   "source": [
    "### Apple devices"
   ]
  },
  {
   "cell_type": "markdown",
   "metadata": {},
   "source": [
    "It would be interesting to know the proportion of Apple devices for each timezone. Combining Numpy and Pandas can provide this information, even if it is not directly present in the data.\n",
    "\n",
    "The first thing to do is to create a new column `os` (i.e. a Series) in the DataFrame named `bitly`. We will put `Apple` if the entry (i.e. the row) is from an Apple device, and `Other` for all other entries. By looking at the data, I can see that Apple devices have a user agent (the column `a` in bitly) that contains \"Mac OS\". The function `np.where()` can help us to build such a Series."
   ]
  },
  {
   "cell_type": "code",
   "execution_count": 90,
   "metadata": {},
   "outputs": [
    {
     "data": {
      "text/plain": [
       "0    Other\n",
       "1    Other\n",
       "2    Other\n",
       "3    Apple\n",
       "4    Other\n",
       "Name: os, dtype: object"
      ]
     },
     "execution_count": 90,
     "metadata": {},
     "output_type": "execute_result"
    }
   ],
   "source": [
    "# Add a new column named `os` in bitly that contains:\n",
    "#   - \"Apple\" if the user agent contains \"Mac OS\"\n",
    "#   - \"Other\" otherwise\n",
    "#\n",
    "# Then print the 5 first values of this column.\n",
    "\n",
    "# np.where(cond, val1, val2) takes 3 arguments :\n",
    "#   - cond = an array containing True or False. It represents the\n",
    "#            result of a condition on each row\n",
    "#   - val1 = if the value of cond for a row is True, that row in the\n",
    "#            new Series will be assigned val1\n",
    "#   - val2 = else, it will be val2\n",
    "os = np.where(bitly.a.str.contains(\"Mac OS\"), \"Apple\", \"Other\")\n",
    "bitly[\"os\"] = os # add the Series as a new column in bitly\n",
    "bitly.os[:5]     # print the 5 first values of new column os"
   ]
  },
  {
   "cell_type": "markdown",
   "metadata": {},
   "source": [
    "Then we can regroup the rows that have the same timezone and the same OS with `.groupby()`. This method is similar to the one existing in SQL."
   ]
  },
  {
   "cell_type": "code",
   "execution_count": 91,
   "metadata": {},
   "outputs": [
    {
     "data": {
      "text/plain": [
       "tz                              os   \n",
       "Africa/Cairo                    Other    3\n",
       "Africa/Casablanca               Other    1\n",
       "Africa/Ceuta                    Other    2\n",
       "Africa/Johannesburg             Other    1\n",
       "Africa/Lusaka                   Other    1\n",
       "America/Anchorage               Apple    3\n",
       "                                Other    2\n",
       "America/Argentina/Buenos_Aires  Apple    1\n",
       "America/Argentina/Cordoba       Other    1\n",
       "America/Argentina/Mendoza       Other    1\n",
       "dtype: int64"
      ]
     },
     "execution_count": 91,
     "metadata": {},
     "output_type": "execute_result"
    }
   ],
   "source": [
    "# Look at the documentation of .groupby() method.\n",
    "# Create a new variable `grouped` that contains the\n",
    "# information grouped by timezones and operating systems.\n",
    "# Use the method .size() on `grouped` to get the cardinality\n",
    "# of each group and assign it to `grouped`. \n",
    "# Then print the first 10 items of the variable `grouped`.\n",
    "\n",
    "grouped = bitly.groupby([\"tz\", \"os\"])\n",
    "\n",
    "# then we can use .size() to get the number of items in each group\n",
    "grouped = grouped.size()\n",
    "grouped[:10]"
   ]
  },
  {
   "cell_type": "markdown",
   "metadata": {},
   "source": [
    "We can see that `grouped` has 2 labels for each row (`tz` and `os`). This would be better if we only had 1 label (`tz`) and use the other one (`os`) as a column. We can do this with `.unstack()`."
   ]
  },
  {
   "cell_type": "code",
   "execution_count": 92,
   "metadata": {},
   "outputs": [
    {
     "data": {
      "text/html": [
       "<div>\n",
       "<style scoped>\n",
       "    .dataframe tbody tr th:only-of-type {\n",
       "        vertical-align: middle;\n",
       "    }\n",
       "\n",
       "    .dataframe tbody tr th {\n",
       "        vertical-align: top;\n",
       "    }\n",
       "\n",
       "    .dataframe thead th {\n",
       "        text-align: right;\n",
       "    }\n",
       "</style>\n",
       "<table border=\"1\" class=\"dataframe\">\n",
       "  <thead>\n",
       "    <tr style=\"text-align: right;\">\n",
       "      <th>os</th>\n",
       "      <th>Apple</th>\n",
       "      <th>Other</th>\n",
       "    </tr>\n",
       "    <tr>\n",
       "      <th>tz</th>\n",
       "      <th></th>\n",
       "      <th></th>\n",
       "    </tr>\n",
       "  </thead>\n",
       "  <tbody>\n",
       "    <tr>\n",
       "      <td>Africa/Cairo</td>\n",
       "      <td>NaN</td>\n",
       "      <td>3.0</td>\n",
       "    </tr>\n",
       "    <tr>\n",
       "      <td>Africa/Casablanca</td>\n",
       "      <td>NaN</td>\n",
       "      <td>1.0</td>\n",
       "    </tr>\n",
       "    <tr>\n",
       "      <td>Africa/Ceuta</td>\n",
       "      <td>NaN</td>\n",
       "      <td>2.0</td>\n",
       "    </tr>\n",
       "    <tr>\n",
       "      <td>Africa/Johannesburg</td>\n",
       "      <td>NaN</td>\n",
       "      <td>1.0</td>\n",
       "    </tr>\n",
       "    <tr>\n",
       "      <td>Africa/Lusaka</td>\n",
       "      <td>NaN</td>\n",
       "      <td>1.0</td>\n",
       "    </tr>\n",
       "    <tr>\n",
       "      <td>America/Anchorage</td>\n",
       "      <td>3.0</td>\n",
       "      <td>2.0</td>\n",
       "    </tr>\n",
       "    <tr>\n",
       "      <td>America/Argentina/Buenos_Aires</td>\n",
       "      <td>1.0</td>\n",
       "      <td>NaN</td>\n",
       "    </tr>\n",
       "    <tr>\n",
       "      <td>America/Argentina/Cordoba</td>\n",
       "      <td>NaN</td>\n",
       "      <td>1.0</td>\n",
       "    </tr>\n",
       "    <tr>\n",
       "      <td>America/Argentina/Mendoza</td>\n",
       "      <td>NaN</td>\n",
       "      <td>1.0</td>\n",
       "    </tr>\n",
       "    <tr>\n",
       "      <td>America/Bogota</td>\n",
       "      <td>1.0</td>\n",
       "      <td>2.0</td>\n",
       "    </tr>\n",
       "  </tbody>\n",
       "</table>\n",
       "</div>"
      ],
      "text/plain": [
       "os                              Apple  Other\n",
       "tz                                          \n",
       "Africa/Cairo                      NaN    3.0\n",
       "Africa/Casablanca                 NaN    1.0\n",
       "Africa/Ceuta                      NaN    2.0\n",
       "Africa/Johannesburg               NaN    1.0\n",
       "Africa/Lusaka                     NaN    1.0\n",
       "America/Anchorage                 3.0    2.0\n",
       "America/Argentina/Buenos_Aires    1.0    NaN\n",
       "America/Argentina/Cordoba         NaN    1.0\n",
       "America/Argentina/Mendoza         NaN    1.0\n",
       "America/Bogota                    1.0    2.0"
      ]
     },
     "execution_count": 92,
     "metadata": {},
     "output_type": "execute_result"
    }
   ],
   "source": [
    "tz_devices = grouped.unstack()  # now we have 2 more columns : one for Apple, another for Other\n",
    "tz_devices[:10]"
   ]
  },
  {
   "cell_type": "code",
   "execution_count": 93,
   "metadata": {},
   "outputs": [
    {
     "data": {
      "text/html": [
       "<div>\n",
       "<style scoped>\n",
       "    .dataframe tbody tr th:only-of-type {\n",
       "        vertical-align: middle;\n",
       "    }\n",
       "\n",
       "    .dataframe tbody tr th {\n",
       "        vertical-align: top;\n",
       "    }\n",
       "\n",
       "    .dataframe thead th {\n",
       "        text-align: right;\n",
       "    }\n",
       "</style>\n",
       "<table border=\"1\" class=\"dataframe\">\n",
       "  <thead>\n",
       "    <tr style=\"text-align: right;\">\n",
       "      <th>os</th>\n",
       "      <th>Apple</th>\n",
       "      <th>Other</th>\n",
       "    </tr>\n",
       "    <tr>\n",
       "      <th>tz</th>\n",
       "      <th></th>\n",
       "      <th></th>\n",
       "    </tr>\n",
       "  </thead>\n",
       "  <tbody>\n",
       "    <tr>\n",
       "      <td>Africa/Cairo</td>\n",
       "      <td>0.0</td>\n",
       "      <td>3.0</td>\n",
       "    </tr>\n",
       "    <tr>\n",
       "      <td>Africa/Casablanca</td>\n",
       "      <td>0.0</td>\n",
       "      <td>1.0</td>\n",
       "    </tr>\n",
       "    <tr>\n",
       "      <td>Africa/Ceuta</td>\n",
       "      <td>0.0</td>\n",
       "      <td>2.0</td>\n",
       "    </tr>\n",
       "    <tr>\n",
       "      <td>Africa/Johannesburg</td>\n",
       "      <td>0.0</td>\n",
       "      <td>1.0</td>\n",
       "    </tr>\n",
       "    <tr>\n",
       "      <td>Africa/Lusaka</td>\n",
       "      <td>0.0</td>\n",
       "      <td>1.0</td>\n",
       "    </tr>\n",
       "    <tr>\n",
       "      <td>America/Anchorage</td>\n",
       "      <td>3.0</td>\n",
       "      <td>2.0</td>\n",
       "    </tr>\n",
       "    <tr>\n",
       "      <td>America/Argentina/Buenos_Aires</td>\n",
       "      <td>1.0</td>\n",
       "      <td>0.0</td>\n",
       "    </tr>\n",
       "    <tr>\n",
       "      <td>America/Argentina/Cordoba</td>\n",
       "      <td>0.0</td>\n",
       "      <td>1.0</td>\n",
       "    </tr>\n",
       "    <tr>\n",
       "      <td>America/Argentina/Mendoza</td>\n",
       "      <td>0.0</td>\n",
       "      <td>1.0</td>\n",
       "    </tr>\n",
       "    <tr>\n",
       "      <td>America/Bogota</td>\n",
       "      <td>1.0</td>\n",
       "      <td>2.0</td>\n",
       "    </tr>\n",
       "  </tbody>\n",
       "</table>\n",
       "</div>"
      ],
      "text/plain": [
       "os                              Apple  Other\n",
       "tz                                          \n",
       "Africa/Cairo                      0.0    3.0\n",
       "Africa/Casablanca                 0.0    1.0\n",
       "Africa/Ceuta                      0.0    2.0\n",
       "Africa/Johannesburg               0.0    1.0\n",
       "Africa/Lusaka                     0.0    1.0\n",
       "America/Anchorage                 3.0    2.0\n",
       "America/Argentina/Buenos_Aires    1.0    0.0\n",
       "America/Argentina/Cordoba         0.0    1.0\n",
       "America/Argentina/Mendoza         0.0    1.0\n",
       "America/Bogota                    1.0    2.0"
      ]
     },
     "execution_count": 93,
     "metadata": {},
     "output_type": "execute_result"
    }
   ],
   "source": [
    "# Use the method .fillna() to replace every NaN values\n",
    "# in `tz_devices` by 0. Print the 10 first rows to verify\n",
    "# that they have been updated.\n",
    "tz_devices = tz_devices.fillna(0)\n",
    "tz_devices[:10]"
   ]
  },
  {
   "cell_type": "code",
   "execution_count": 94,
   "metadata": {},
   "outputs": [
    {
     "data": {
      "text/html": [
       "<div>\n",
       "<style scoped>\n",
       "    .dataframe tbody tr th:only-of-type {\n",
       "        vertical-align: middle;\n",
       "    }\n",
       "\n",
       "    .dataframe tbody tr th {\n",
       "        vertical-align: top;\n",
       "    }\n",
       "\n",
       "    .dataframe thead th {\n",
       "        text-align: right;\n",
       "    }\n",
       "</style>\n",
       "<table border=\"1\" class=\"dataframe\">\n",
       "  <thead>\n",
       "    <tr style=\"text-align: right;\">\n",
       "      <th>os</th>\n",
       "      <th>Apple</th>\n",
       "      <th>Other</th>\n",
       "    </tr>\n",
       "  </thead>\n",
       "  <tbody>\n",
       "    <tr>\n",
       "      <td>America/New_York</td>\n",
       "      <td>267.0</td>\n",
       "      <td>984.0</td>\n",
       "    </tr>\n",
       "    <tr>\n",
       "      <td>Unknown</td>\n",
       "      <td>152.0</td>\n",
       "      <td>369.0</td>\n",
       "    </tr>\n",
       "    <tr>\n",
       "      <td>America/Chicago</td>\n",
       "      <td>96.0</td>\n",
       "      <td>304.0</td>\n",
       "    </tr>\n",
       "    <tr>\n",
       "      <td>America/Los_Angeles</td>\n",
       "      <td>81.0</td>\n",
       "      <td>301.0</td>\n",
       "    </tr>\n",
       "    <tr>\n",
       "      <td>America/Denver</td>\n",
       "      <td>10.0</td>\n",
       "      <td>181.0</td>\n",
       "    </tr>\n",
       "    <tr>\n",
       "      <td>Europe/London</td>\n",
       "      <td>32.0</td>\n",
       "      <td>42.0</td>\n",
       "    </tr>\n",
       "    <tr>\n",
       "      <td>Asia/Tokyo</td>\n",
       "      <td>2.0</td>\n",
       "      <td>35.0</td>\n",
       "    </tr>\n",
       "    <tr>\n",
       "      <td>Pacific/Honolulu</td>\n",
       "      <td>0.0</td>\n",
       "      <td>36.0</td>\n",
       "    </tr>\n",
       "    <tr>\n",
       "      <td>Europe/Madrid</td>\n",
       "      <td>5.0</td>\n",
       "      <td>30.0</td>\n",
       "    </tr>\n",
       "    <tr>\n",
       "      <td>America/Sao_Paulo</td>\n",
       "      <td>10.0</td>\n",
       "      <td>23.0</td>\n",
       "    </tr>\n",
       "  </tbody>\n",
       "</table>\n",
       "</div>"
      ],
      "text/plain": [
       "os                   Apple  Other\n",
       "America/New_York     267.0  984.0\n",
       "Unknown              152.0  369.0\n",
       "America/Chicago       96.0  304.0\n",
       "America/Los_Angeles   81.0  301.0\n",
       "America/Denver        10.0  181.0\n",
       "Europe/London         32.0   42.0\n",
       "Asia/Tokyo             2.0   35.0\n",
       "Pacific/Honolulu       0.0   36.0\n",
       "Europe/Madrid          5.0   30.0\n",
       "America/Sao_Paulo     10.0   23.0"
      ]
     },
     "execution_count": 94,
     "metadata": {},
     "output_type": "execute_result"
    }
   ],
   "source": [
    "# Using the indexes of the 10 most frequent locations,\n",
    "# select them in `tz_devices`.\n",
    "\n",
    "# We can use the index of tz_counts (because we \n",
    "# already computed this) to only selects the timezones that\n",
    "# were the most frequent in tz_devices \n",
    "tz_devices = tz_devices.loc[tz_counts[:10].index]\n",
    "tz_devices"
   ]
  },
  {
   "cell_type": "code",
   "execution_count": 95,
   "metadata": {},
   "outputs": [
    {
     "data": {
      "text/html": [
       "<div>\n",
       "<style scoped>\n",
       "    .dataframe tbody tr th:only-of-type {\n",
       "        vertical-align: middle;\n",
       "    }\n",
       "\n",
       "    .dataframe tbody tr th {\n",
       "        vertical-align: top;\n",
       "    }\n",
       "\n",
       "    .dataframe thead th {\n",
       "        text-align: right;\n",
       "    }\n",
       "</style>\n",
       "<table border=\"1\" class=\"dataframe\">\n",
       "  <thead>\n",
       "    <tr style=\"text-align: right;\">\n",
       "      <th>os</th>\n",
       "      <th>Apple</th>\n",
       "      <th>Other</th>\n",
       "    </tr>\n",
       "  </thead>\n",
       "  <tbody>\n",
       "    <tr>\n",
       "      <td>America/New_York</td>\n",
       "      <td>0.213429</td>\n",
       "      <td>0.786571</td>\n",
       "    </tr>\n",
       "    <tr>\n",
       "      <td>Unknown</td>\n",
       "      <td>0.291747</td>\n",
       "      <td>0.708253</td>\n",
       "    </tr>\n",
       "    <tr>\n",
       "      <td>America/Chicago</td>\n",
       "      <td>0.240000</td>\n",
       "      <td>0.760000</td>\n",
       "    </tr>\n",
       "    <tr>\n",
       "      <td>America/Los_Angeles</td>\n",
       "      <td>0.212042</td>\n",
       "      <td>0.787958</td>\n",
       "    </tr>\n",
       "    <tr>\n",
       "      <td>America/Denver</td>\n",
       "      <td>0.052356</td>\n",
       "      <td>0.947644</td>\n",
       "    </tr>\n",
       "    <tr>\n",
       "      <td>Europe/London</td>\n",
       "      <td>0.432432</td>\n",
       "      <td>0.567568</td>\n",
       "    </tr>\n",
       "    <tr>\n",
       "      <td>Asia/Tokyo</td>\n",
       "      <td>0.054054</td>\n",
       "      <td>0.945946</td>\n",
       "    </tr>\n",
       "    <tr>\n",
       "      <td>Pacific/Honolulu</td>\n",
       "      <td>0.000000</td>\n",
       "      <td>1.000000</td>\n",
       "    </tr>\n",
       "    <tr>\n",
       "      <td>Europe/Madrid</td>\n",
       "      <td>0.142857</td>\n",
       "      <td>0.857143</td>\n",
       "    </tr>\n",
       "    <tr>\n",
       "      <td>America/Sao_Paulo</td>\n",
       "      <td>0.303030</td>\n",
       "      <td>0.696970</td>\n",
       "    </tr>\n",
       "  </tbody>\n",
       "</table>\n",
       "</div>"
      ],
      "text/plain": [
       "os                      Apple     Other\n",
       "America/New_York     0.213429  0.786571\n",
       "Unknown              0.291747  0.708253\n",
       "America/Chicago      0.240000  0.760000\n",
       "America/Los_Angeles  0.212042  0.787958\n",
       "America/Denver       0.052356  0.947644\n",
       "Europe/London        0.432432  0.567568\n",
       "Asia/Tokyo           0.054054  0.945946\n",
       "Pacific/Honolulu     0.000000  1.000000\n",
       "Europe/Madrid        0.142857  0.857143\n",
       "America/Sao_Paulo    0.303030  0.696970"
      ]
     },
     "execution_count": 95,
     "metadata": {},
     "output_type": "execute_result"
    }
   ],
   "source": [
    "# Now, each row represents a location and have two\n",
    "# information:\n",
    "#   - the number of Apple devices\n",
    "#   - the number of Other devices\n",
    "# Use the method .sum() to get the total number of devices\n",
    "# for each location, and then the method .div() to divide\n",
    "# each row by the appropriate number so that the rows\n",
    "# contain:\n",
    "#   - the percentage of Apple devices for each location\n",
    "#   - the percentage of Other devices for each location\n",
    "\n",
    "# The idea is to compute the sum for each\n",
    "# row (i.e. along axis 1) and use each value to divide its\n",
    "# column (i.e. along axis 0). We are using .sum() to compute\n",
    "# the sum and .div() to compute the division\n",
    "tz_devices_ratio = tz_devices.div(tz_devices.sum(axis=1), axis=0)\n",
    "tz_devices_ratio"
   ]
  },
  {
   "cell_type": "code",
   "execution_count": 96,
   "metadata": {},
   "outputs": [
    {
     "data": {
      "text/plain": [
       "<matplotlib.axes._subplots.AxesSubplot at 0x72ca1bb513d0>"
      ]
     },
     "execution_count": 96,
     "metadata": {},
     "output_type": "execute_result"
    },
    {
     "data": {
      "image/png": "[encoded data removed]",
      "text/plain": [
       "<Figure size 864x432 with 1 Axes>"
      ]
     },
     "metadata": {
      "needs_background": "light"
     },
     "output_type": "display_data"
    }
   ],
   "source": [
    "# Print the percentage results in a chart (select the\n",
    "# appropriate type of graphic).\n",
    "\n",
    "# We can print the results as horizontal bar. We are using\n",
    "# stacked = True so that Apple and Other bar are printed as\n",
    "# one bar instead of two different bars\n",
    "tz_devices_ratio.plot(kind=\"barh\", stacked=True, figsize=(12,6), fontsize=8)"
   ]
  }
 ],
 "metadata": {
  "kernelspec": {
   "display_name": "Python 3",
   "language": "python",
   "name": "python3"
  },
  "language_info": {
   "codemirror_mode": {
    "name": "ipython",
    "version": 3
   },
   "file_extension": ".py",
   "mimetype": "text/x-python",
   "name": "python",
   "nbconvert_exporter": "python",
   "pygments_lexer": "ipython3",
   "version": "3.7.5rc1"
  }
 },
 "nbformat": 4,
 "nbformat_minor": 2
}
