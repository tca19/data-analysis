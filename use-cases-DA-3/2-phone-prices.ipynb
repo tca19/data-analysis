{
 "cells": [
  {
   "cell_type": "markdown",
   "metadata": {},
   "source": [
    "# Predicting the price of mobile phones"
   ]
  },
  {
   "cell_type": "markdown",
   "metadata": {},
   "source": [
    "The file `mobile_prices.csv` contains information about the features of some mobile phones, and their respective prices. The file `mobile_prices_explanations.txt` indicates what each feature represents. The objective is to predict the price of a new mobile phone given its characteristics. This is useful for manufacturers who want to sell a new device with a similar price to the device of other manufacturers."
   ]
  },
  {
   "cell_type": "markdown",
   "metadata": {},
   "source": [
    "## Getting started with the dataset"
   ]
  },
  {
   "cell_type": "code",
   "execution_count": null,
   "metadata": {},
   "outputs": [],
   "source": [
    "# Use the appropriate library to load the file\n",
    "# `mobile_prices.csv`."
   ]
  },
  {
   "cell_type": "code",
   "execution_count": null,
   "metadata": {},
   "outputs": [],
   "source": [
    "# The column with the price information is the last one. Is\n",
    "# it a regression or a classification problem? Explain why."
   ]
  },
  {
   "cell_type": "code",
   "execution_count": null,
   "metadata": {},
   "outputs": [],
   "source": [
    "# What is the average amount of RAM?"
   ]
  },
  {
   "cell_type": "code",
   "execution_count": null,
   "metadata": {},
   "outputs": [],
   "source": [
    "# What is the percentage of phones which have *both* Wifi\n",
    "# and Bluetooth?"
   ]
  },
  {
   "cell_type": "code",
   "execution_count": null,
   "metadata": {},
   "outputs": [],
   "source": [
    "# The values of each feature is already numerical, but the\n",
    "# range of some values is high. Use a MinMaxScaler to\n",
    "# normalize the data."
   ]
  },
  {
   "cell_type": "code",
   "execution_count": null,
   "metadata": {},
   "outputs": [],
   "source": [
    "# Split the dataset into a train and a test set. The test\n",
    "# set should have 10% of all the examples."
   ]
  },
  {
   "cell_type": "markdown",
   "metadata": {},
   "source": [
    "## Importance of each feature"
   ]
  },
  {
   "cell_type": "code",
   "execution_count": null,
   "metadata": {},
   "outputs": [],
   "source": [
    "# Create a Decision Tree and train it with the data to\n",
    "# predict the price of mobile phones. If needed, tune the\n",
    "# decision tree (e.g. by limiting its height) so it does not\n",
    "# overfit. What the accuracy of this model?"
   ]
  },
  {
   "cell_type": "code",
   "execution_count": null,
   "metadata": {},
   "outputs": [],
   "source": [
    "# Plot with an horizontal bar graph the importance score\n",
    "# given to each of the features by the Decision Tree model.\n",
    "# What are the 5 most important features to predict\n",
    "# accurately the price of a mobile phone?"
   ]
  },
  {
   "cell_type": "code",
   "execution_count": null,
   "metadata": {},
   "outputs": [],
   "source": [
    "# Create another train and test set by selecting *only* the\n",
    "# 5 most important features you have identified at the\n",
    "# previous step."
   ]
  },
  {
   "cell_type": "code",
   "execution_count": null,
   "metadata": {},
   "outputs": [],
   "source": [
    "# Train a neural network with 3 layers of 10 neurons on the\n",
    "# dataset with only 5 features. What accuracy do you get?"
   ]
  },
  {
   "cell_type": "markdown",
   "metadata": {},
   "source": [
    "## Visualizing the distribution of prices"
   ]
  },
  {
   "cell_type": "code",
   "execution_count": null,
   "metadata": {},
   "outputs": [],
   "source": [
    "# Use a PCA model to reduce the number of dimensions to 2\n",
    "# for the whole dataset (i.e. both train and test sets)."
   ]
  },
  {
   "cell_type": "code",
   "execution_count": null,
   "metadata": {},
   "outputs": [],
   "source": [
    "# Create a K-means model with the appropriate number of\n",
    "# clusters and print the points with a color specific\n",
    "# to their price (not the cluster they belong to). Are the\n",
    "# phones with similar prices grouped into the same clusters?"
   ]
  }
 ],
 "metadata": {
  "kernelspec": {
   "display_name": "Python 3",
   "language": "python",
   "name": "python3"
  },
  "language_info": {
   "codemirror_mode": {
    "name": "ipython",
    "version": 3
   },
   "file_extension": ".py",
   "mimetype": "text/x-python",
   "name": "python",
   "nbconvert_exporter": "python",
   "pygments_lexer": "ipython3",
   "version": "3.7.5"
  }
 },
 "nbformat": 4,
 "nbformat_minor": 2
}
