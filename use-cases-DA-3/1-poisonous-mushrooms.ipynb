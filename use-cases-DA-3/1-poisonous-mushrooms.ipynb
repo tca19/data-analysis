{
 "cells": [
  {
   "cell_type": "markdown",
   "metadata": {},
   "source": [
    "# To eat or not to eat mushrooms"
   ]
  },
  {
   "cell_type": "markdown",
   "metadata": {},
   "source": [
    "There are two kinds of mushrooms: those which can be eaten without any risks (edible) and those which can not (poisonous). The file `mushrooms.csv` contains information about the characteristics of some mushrooms. The file `mushrooms_explanations.txt` contains the explanation of the symbols used to describe the features. The objective is to be able to tell if a mushroom can be eaten or not given its characteristics."
   ]
  },
  {
   "cell_type": "markdown",
   "metadata": {},
   "source": [
    "## Getting started with the dataset"
   ]
  },
  {
   "cell_type": "code",
   "execution_count": null,
   "metadata": {},
   "outputs": [],
   "source": [
    "# Use the appropriate library to load the data contained in\n",
    "# the file `mushrooms.csv`."
   ]
  },
  {
   "cell_type": "code",
   "execution_count": null,
   "metadata": {},
   "outputs": [],
   "source": [
    "# How many features does each muchroom have?\n",
    "# How many examples are there?"
   ]
  },
  {
   "cell_type": "code",
   "execution_count": null,
   "metadata": {},
   "outputs": [],
   "source": [
    "# What is the percentage of poisonous mushrooms in the\n",
    "# dataset?"
   ]
  },
  {
   "cell_type": "code",
   "execution_count": null,
   "metadata": {},
   "outputs": [],
   "source": [
    "# What is the percentage of poisonous mushrooms among those\n",
    "# with a red cap color?"
   ]
  },
  {
   "cell_type": "code",
   "execution_count": null,
   "metadata": {},
   "outputs": [],
   "source": [
    "# For each feature, print its number of possible values.\n",
    "# What can you say about the feature `veil-type`? Do you\n",
    "# think it will be an important information when training\n",
    "# our model? Explain why."
   ]
  },
  {
   "cell_type": "code",
   "execution_count": null,
   "metadata": {},
   "outputs": [],
   "source": [
    "# Is it a regression problem, a multi-class classification\n",
    "# problem or a binary classification problem? Why?"
   ]
  },
  {
   "cell_type": "code",
   "execution_count": null,
   "metadata": {},
   "outputs": [],
   "source": [
    "# How many mushrooms have a distinct color for \"stalk color\n",
    "# above ring\" and \"stalk color below ring\"?"
   ]
  },
  {
   "cell_type": "markdown",
   "metadata": {},
   "source": [
    "## Preparing the data"
   ]
  },
  {
   "cell_type": "code",
   "execution_count": null,
   "metadata": {},
   "outputs": [],
   "source": [
    "# As you might have noticed, each feature value is encoded\n",
    "# with a letter. We have seen that machine learning\n",
    "# algorithms only work with numerical values. Use\n",
    "# label encoder to transform the letters into numerical\n",
    "# values."
   ]
  },
  {
   "cell_type": "code",
   "execution_count": null,
   "metadata": {},
   "outputs": [],
   "source": [
    "# Now that each sample is composed of only numerical values,\n",
    "# separate them into a train and a test set. Test set should\n",
    "# have 1000 examples."
   ]
  },
  {
   "cell_type": "markdown",
   "metadata": {},
   "source": [
    "## Comparing different models"
   ]
  },
  {
   "cell_type": "code",
   "execution_count": null,
   "metadata": {},
   "outputs": [],
   "source": [
    "# Train different models on the data, and evaluate each one\n",
    "# of them. Which one is the best to predict if a mushroom\n",
    "# can be eaten or not?\n",
    "# I want you to train the following types of models:\n",
    "# - KNN\n",
    "# - Linear models\n",
    "# - Decision trees\n",
    "# - SVM\n",
    "#\n",
    "# We have seen that each model can be tuned with different\n",
    "# hyperparameters (e.g. in KNN the value of K can be chosen).\n",
    "# For each type of model, train 3 versions with different\n",
    "# hyperparameters (so in the end, you will have 12 \n",
    "# prediction accuracy, 4 * 3 = 12)."
   ]
  },
  {
   "cell_type": "code",
   "execution_count": null,
   "metadata": {},
   "outputs": [],
   "source": [
    "# Finally, print each accuracy into an horizontal bar plot,\n",
    "# where the length of the bar represents the accuracy. The\n",
    "# label of the bar should indicate the type and\n",
    "# hyperparameters of the model."
   ]
  },
  {
   "cell_type": "markdown",
   "metadata": {},
   "source": [
    "## Influence of the number of features"
   ]
  },
  {
   "cell_type": "markdown",
   "metadata": {},
   "source": [
    "It would be nice to know if the model that achieved the\n",
    "best score at the previous step still works fine when\n",
    "the number of features is decreased."
   ]
  },
  {
   "cell_type": "code",
   "execution_count": null,
   "metadata": {},
   "outputs": [],
   "source": [
    "# Select the model that obtained the best score at the \n",
    "# previous step and keep the same hyperparameters. Then,\n",
    "# train and evaluate this model on the same dataset where\n",
    "# the number of features has been reduced to 2. Repeat the\n",
    "# same process when reducing the number of features to 3,\n",
    "# then 4, then 5... until you train on the same dataset\n",
    "# with the same number of features as the original one."
   ]
  },
  {
   "cell_type": "code",
   "execution_count": null,
   "metadata": {},
   "outputs": [],
   "source": [
    "# Finally, plot the accuracy of the model according to the\n",
    "# number of features used. What can you say about this\n",
    "# plot. Does it seems that a specific number of features is\n",
    "# better than the others?"
   ]
  }
 ],
 "metadata": {
  "kernelspec": {
   "display_name": "Python 3",
   "language": "python",
   "name": "python3"
  },
  "language_info": {
   "codemirror_mode": {
    "name": "ipython",
    "version": 3
   },
   "file_extension": ".py",
   "mimetype": "text/x-python",
   "name": "python",
   "nbconvert_exporter": "python",
   "pygments_lexer": "ipython3",
   "version": "3.7.5"
  }
 },
 "nbformat": 4,
 "nbformat_minor": 2
}
