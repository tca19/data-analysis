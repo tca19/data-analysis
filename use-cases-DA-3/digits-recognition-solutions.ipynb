{
 "cells": [
  {
   "cell_type": "markdown",
   "metadata": {},
   "source": [
    "# Digits recognition with clustering"
   ]
  },
  {
   "cell_type": "markdown",
   "metadata": {},
   "source": [
    "`sklearn` has some built-in datasets. One of them is composed of small images of digits and the corresponding digit it represents (the label)."
   ]
  },
  {
   "cell_type": "markdown",
   "metadata": {},
   "source": [
    "## Loading and visualizing the dataset"
   ]
  },
  {
   "cell_type": "code",
   "execution_count": null,
   "metadata": {},
   "outputs": [],
   "source": [
    "# Look at the documentation of the function load_digits.\n",
    "# Use it to get the data (both X and y).\n",
    "from sklearn.datasets import load_digits\n",
    "\n",
    "#?load_digits\n",
    "# By looking at the documentation, one can see that the\n",
    "# function `load_digits()̣` return a dictionary containing\n",
    "# many data in each attribute. The interesting ones are\n",
    "# `data` (our X) and `target` (our y).\n",
    "# I could write:\n",
    "# X, y = load_digits(return_X_y=True)\n",
    "# which only returns the interesting fields but since I will\n",
    "# need the images for the next question, I load it entirely.\n",
    "data = load_digits()\n",
    "X = data[\"data\"]\n",
    "y = data[\"target\"]\n",
    "\n",
    "# How many samples are in this dataset ?\n",
    "print(\"There are {} samples in the digits dataset.\".\n",
    "    format(len(X)))\n",
    "\n",
    "# How many samples of the classe '7' are in this dataset ?\n",
    "# The condition `y == 7` return an numpy array of booleans\n",
    "# where the value is True each time the label is 7. Then\n",
    "# np.sum() gives the number of occurrences of `True`, since\n",
    "# True is evaluated as 1 and False as 0. The number of\n",
    "# occurrences of True is the number of labels equal to 7.\n",
    "print(\"There are {} samples of the class 7 in the dataset.\".\n",
    "    format((y == 7).sum()))\n",
    "\n",
    "# How many features are in each input vector ?\n",
    "print(\"There are {} features in each input vector.\".\n",
    "    format(X.shape[1]))\n",
    "\n",
    "# Print the frequency of each class as an histogram.\n",
    "import numpy as np\n",
    "import matplotlib.pyplot as plt\n",
    "plt.bar(data[\"target_names\"], np.histogram(y)[0], bottom=170)"
   ]
  },
  {
   "cell_type": "code",
   "execution_count": null,
   "metadata": {},
   "outputs": [],
   "source": [
    "# Use the fonction imshow() of the plt library to represent\n",
    "# as an image:\n",
    "#   - 3 different samples of the class \"9\"\n",
    "#   - 3 different samples of the class \"6\"\n",
    "#   - 3 different samples of the class \"5\"\n",
    "\n",
    "# Print all the images into the same plot (use subplots()\n",
    "# with a size of 3x3 so that the first row contains \"9\", the\n",
    "# second row contains \"6\" and the third row contains \"5\")"
   ]
  },
  {
   "cell_type": "markdown",
   "metadata": {},
   "source": [
    "## Predicting digits with K-means"
   ]
  },
  {
   "cell_type": "code",
   "execution_count": null,
   "metadata": {},
   "outputs": [],
   "source": [
    "# Separate the dataset into a train and test size with\n",
    "# random_state = 0."
   ]
  },
  {
   "cell_type": "code",
   "execution_count": null,
   "metadata": {},
   "outputs": [],
   "source": [
    "# With the class KMeans, create a model that clusterize the \n",
    "# training data. Use the right number of clusters."
   ]
  },
  {
   "cell_type": "code",
   "execution_count": null,
   "metadata": {},
   "outputs": [],
   "source": [
    "# The model learns 2 things:\n",
    "#   - the position of each centroid (model.cluster_centers_)\n",
    "#   - the id of the cluster to which each point belongs (model.labels_)\n",
    "#\n",
    "# Use the above information to build, for each centroid,\n",
    "# the list of points and their label belonging to that \n",
    "# centroid.\n",
    "# Then build a mapping between a cluster id and the class it\n",
    "# represents (use a dictionary for this)."
   ]
  },
  {
   "cell_type": "code",
   "execution_count": null,
   "metadata": {},
   "outputs": [],
   "source": [
    "# Look at the documentation of the .predict() method of your\n",
    "# model. Use it to find the class predicted by your model\n",
    "# for each point of your test set."
   ]
  },
  {
   "cell_type": "code",
   "execution_count": null,
   "metadata": {},
   "outputs": [],
   "source": [
    "# What is the accuracy of your KMeans model on the test set ?"
   ]
  },
  {
   "cell_type": "markdown",
   "metadata": {},
   "source": [
    "## Combining PCA and Kmeans for prediction"
   ]
  },
  {
   "cell_type": "code",
   "execution_count": null,
   "metadata": {},
   "outputs": [],
   "source": [
    "# Use the PCA algorithm to transform the digits data\n",
    "# (all of them i.e. both train and test) into a 3-dimensional\n",
    "# dataset."
   ]
  },
  {
   "cell_type": "code",
   "execution_count": null,
   "metadata": {},
   "outputs": [],
   "source": [
    "# Print the reduced dataset on a 3D figure."
   ]
  },
  {
   "cell_type": "code",
   "execution_count": null,
   "metadata": {},
   "outputs": [],
   "source": [
    "# Train another KMeans on the 3D dataset. Compare its accuracy\n",
    "# against the previous KMeans model. Do you get better results ?"
   ]
  }
 ],
 "metadata": {
  "kernelspec": {
   "display_name": "Python 3",
   "language": "python",
   "name": "python3"
  },
  "language_info": {
   "codemirror_mode": {
    "name": "ipython",
    "version": 3
   },
   "file_extension": ".py",
   "mimetype": "text/x-python",
   "name": "python",
   "nbconvert_exporter": "python",
   "pygments_lexer": "ipython3",
   "version": "3.5.3"
  }
 },
 "nbformat": 4,
 "nbformat_minor": 2
}
