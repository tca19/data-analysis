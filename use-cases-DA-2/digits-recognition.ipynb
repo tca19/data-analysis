{
 "cells": [
  {
   "cell_type": "markdown",
   "metadata": {},
   "source": [
    "# Digits recognition with clustering"
   ]
  },
  {
   "cell_type": "markdown",
   "metadata": {},
   "source": [
    "`sklearn` has some built-in datasets. One of them is composed of small images of digits and the corresponding digit it represents (the label)."
   ]
  },
  {
   "cell_type": "markdown",
   "metadata": {},
   "source": [
    "## Loading and visualizing the dataset"
   ]
  },
  {
   "cell_type": "code",
   "execution_count": null,
   "metadata": {},
   "outputs": [],
   "source": [
    "# Look at the documentation of the function load_digits.\n",
    "# Use it to get the data (both X and y).\n",
    "from sklearn.datasets import load_digits\n",
    "\n",
    "# How many samples does this dataset contain?\n",
    "# How many samples of class '7' are there in the dataset?\n",
    "# How many features are there in each input vector?\n",
    "# Print the frequency of each class as an histogram."
   ]
  },
  {
   "cell_type": "code",
   "execution_count": null,
   "metadata": {},
   "outputs": [],
   "source": [
    "# Use the fonction imshow() of the plt library to represent\n",
    "# as an image:\n",
    "#   - 3 different samples of the class \"9\"\n",
    "#   - 3 different samples of the class \"6\"\n",
    "#   - 3 different samples of the class \"5\"\n",
    "\n",
    "# Print all the images into the same plot (use subplots()\n",
    "# with a size of 3x3 so that the first row contains \"9\", the\n",
    "# second row contains \"6\" and the third row contains \"5\")"
   ]
  },
  {
   "cell_type": "markdown",
   "metadata": {},
   "source": [
    "## Predicting digits with K-means"
   ]
  },
  {
   "cell_type": "code",
   "execution_count": null,
   "metadata": {},
   "outputs": [],
   "source": [
    "# Separate the dataset into a train and test size with\n",
    "# random_state = 0."
   ]
  },
  {
   "cell_type": "code",
   "execution_count": null,
   "metadata": {},
   "outputs": [],
   "source": [
    "# With the class KMeans, create a model that clusterize the \n",
    "# training data. Use the right number of clusters."
   ]
  },
  {
   "cell_type": "code",
   "execution_count": null,
   "metadata": {},
   "outputs": [],
   "source": [
    "# The model learns 2 things:\n",
    "#   - the position of each centroid (model.cluster_centers_)\n",
    "#   - the id of the cluster to which each point belongs (model.labels_)\n",
    "#\n",
    "# Use the above information to build, for each centroid,\n",
    "# the list of points and their label belonging to that \n",
    "# centroid.\n",
    "# Then build a mapping between a cluster id and the class it\n",
    "# represents (use a dictionary for this)."
   ]
  },
  {
   "cell_type": "code",
   "execution_count": null,
   "metadata": {},
   "outputs": [],
   "source": [
    "# Look at the documentation of the .predict() method of your\n",
    "# model. Use it to find the class predicted by your model\n",
    "# for each point of your test set."
   ]
  },
  {
   "cell_type": "code",
   "execution_count": null,
   "metadata": {},
   "outputs": [],
   "source": [
    "# What is the accuracy of your KMeans model on the test set?"
   ]
  },
  {
   "cell_type": "markdown",
   "metadata": {},
   "source": [
    "## Combining PCA and Kmeans for prediction"
   ]
  },
  {
   "cell_type": "code",
   "execution_count": null,
   "metadata": {},
   "outputs": [],
   "source": [
    "# Use the PCA algorithm to transform the digits data\n",
    "# (all of them i.e. both train and test) into a\n",
    "# 3-dimensional dataset."
   ]
  },
  {
   "cell_type": "code",
   "execution_count": null,
   "metadata": {},
   "outputs": [],
   "source": [
    "# Print the reduced dataset on a 3D figure."
   ]
  },
  {
   "cell_type": "code",
   "execution_count": null,
   "metadata": {},
   "outputs": [],
   "source": [
    "# Train another KMeans on the 3D dataset. Compare its\n",
    "# accuracy against the previous KMeans model. Do you get\n",
    "# better results?"
   ]
  }
 ],
 "metadata": {
  "kernelspec": {
   "display_name": "Python 3",
   "language": "python",
   "name": "python3"
  },
  "language_info": {
   "codemirror_mode": {
    "name": "ipython",
    "version": 3
   },
   "file_extension": ".py",
   "mimetype": "text/x-python",
   "name": "python",
   "nbconvert_exporter": "python",
   "pygments_lexer": "ipython3",
   "version": "3.7.5"
  }
 },
 "nbformat": 4,
 "nbformat_minor": 2
}
